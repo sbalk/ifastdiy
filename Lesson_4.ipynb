{
 "cells": [
  {
   "cell_type": "markdown",
   "metadata": {},
   "source": [
    "Notities lesson 4"
   ]
  },
  {
   "cell_type": "markdown",
   "metadata": {},
   "source": [
    "* CONVOLUTIONAL LAYERS zijn layers die een bepaalde filter elementwise met de input layer vermeningvuldigen en opgeteld. conv2d heeft als input het aantal filters, gevolgd door de afmetingen van die filters (conv2D(2,(3,3),..)). Bij een tweede conv layer heb je 1 filter dat een 3,3,2 tensor is. Dit is dus equivalent aan twee 3,3 matrices die elk met een van de vorige filter uitkomsten wordt vermenigvuldigd en opgeteld. \n",
    "* MAXPOOL LAYERS, decreases resolution of the previous layer. When to maxpool? depends. Why do we do maxpooling? 1 helps with translational invariance; if the image is slightly shifted, it helps. 2 it reduces the size of the input so that a 3,3 filter covers a relatively larger area. geoffrey hinton capsule is needed for further development of maxpooling.\n",
    "* Dense layers zijn layers die Hadamard (elementwise) vermenigvuldigd worden met alle waardes van de vorig matrix (en hebben dus dezelfde vorm). de uitkomst van een dense layer is de som van alle filterxactivation opgeteld. Jeremy heeft het ook wel over activation. Ik denk omdat de vermenigvuldigde waardes bij elkaar worden opgeteld om zo tot een 'probability' te komen.\n",
    "* INSTEAD OF RANDOM WEIGHTS, USE DERIVATIVES FOR FILTERS&DENSELAYERS AND CALCULATE HOW IT IMPACTS THE LOSS.\n",
    "* Difference softmax and sigmoid a^xi/SUM(a^xi), sigmoid is binary version of softmax.\n",
    "* 15:00 Keras author said maybe conv networks are the best solution.\n",
    "* 16:00 SGD, vergelijkt met de SGD notebook. \n",
    "* 1:00:00 How do you choose learning rate? You first do 1/2 epochs small learning rate, then bigger learning rate and then every time a bit smaller as soon as it starts to flatten out\n",
    "* 1:08:00 how else do you approach overfitting? \n"
   ]
  }
 ],
 "metadata": {
  "kernelspec": {
   "display_name": "Python 2",
   "language": "python",
   "name": "python2"
  },
  "language_info": {
   "codemirror_mode": {
    "name": "ipython",
    "version": 2
   },
   "file_extension": ".py",
   "mimetype": "text/x-python",
   "name": "python",
   "nbconvert_exporter": "python",
   "pygments_lexer": "ipython2",
   "version": "2.7.12"
  }
 },
 "nbformat": 4,
 "nbformat_minor": 2
}
