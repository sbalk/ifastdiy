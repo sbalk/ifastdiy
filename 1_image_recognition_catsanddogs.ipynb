{
 "cells": [
  {
   "cell_type": "markdown",
   "metadata": {},
   "source": [
    "## Memo\n",
    "* Install kaggle-cli and download dataset\n",
    "* move all `cat*` to `cats/`, same for dogs\n",
    "* take 1000 random pictures and move them to valid/cats/ with `shuf -n 1000 -e train/cat* | xargs -i mv {} valid/cats/`, same for dogs\n",
    "Furthermore use\n",
    "* `ls /train/cats/ | wc -l` to count files in `/train/cats/`\n",
    "* `ls /train/cats/ | grep -v 'cat'` to find all files that DON'T have cat in it. `-v`-flag inverts search.\n",
    "* use: `mv /train/cat* /valid/cats` and `cp` to do the rest\n",
    "* copy utils etc: `cp -t ~/fastai/ vgg16.py vgg16bn.py utils.py resnet50.py`"
   ]
  },
  {
   "cell_type": "code",
   "execution_count": 1,
   "metadata": {
    "collapsed": true
   },
   "outputs": [],
   "source": [
    "%matplotlib inline\n",
    "# path = \"data/dogscats/\"\n",
    "path = \"data/dogscats/sample/\""
   ]
  },
  {
   "cell_type": "code",
   "execution_count": 3,
   "metadata": {
    "collapsed": false
   },
   "outputs": [
    {
     "name": "stdout",
     "output_type": "stream",
     "text": [
      "Found 16 images belonging to 2 classes.\n",
      "Found 8 images belonging to 2 classes.\n",
      "Found 12 images belonging to 1 classes.\n",
      "Epoch 1/2\n",
      "16/16 [==============================] - 9s - loss: 1.3163 - acc: 0.5625 - val_loss: 0.3623 - val_acc: 0.7500\n",
      "Epoch 2/2\n",
      "16/16 [==============================] - 9s - loss: 0.2680 - acc: 0.9375 - val_loss: 0.2652 - val_acc: 0.7500\n"
     ]
    }
   ],
   "source": [
    "from __future__ import division,print_function\n",
    "\n",
    "import os, json\n",
    "from glob import glob\n",
    "import numpy as np\n",
    "np.set_printoptions(precision=4, linewidth=100)\n",
    "from matplotlib import pyplot as plt\n",
    "import csv\n",
    "import math\n",
    "\n",
    "import utils; reload(utils)\n",
    "from utils import plots\n",
    "import vgg16; reload(vgg16)\n",
    "from vgg16 import Vgg16\n",
    "\n",
    "batch_size = 8\n",
    "\n",
    "vgg = Vgg16()\n",
    "# Grab a few images at a time for training and validation.\n",
    "# NB: They must be in subdirectories named based on their category\n",
    "batches = vgg.get_batches(path+'train', batch_size=batch_size)\n",
    "val_batches = vgg.get_batches(path+'valid', batch_size=batch_size*2)\n",
    "test_batches = vgg.get_batches(path+'temptest', batch_size=batch_size, shuffle=False)\n",
    "vgg.finetune(batches)\n",
    "vgg.fit(batches, val_batches, nb_epoch=2)"
   ]
  },
  {
   "cell_type": "code",
   "execution_count": 4,
   "metadata": {
    "collapsed": true
   },
   "outputs": [],
   "source": [
    "def batch_dogness(test_batches):\n",
    "    imgs,nolabel = next(test_batches)\n",
    "    print(test_batches.filenames)\n",
    "    preds, idxs, labels = vgg.predict(imgs)\n",
    "    dogness = np.multiply(preds, idxs) + np.multiply(1.-preds, 1-idxs)\n",
    "    return dogness"
   ]
  },
  {
   "cell_type": "code",
   "execution_count": 5,
   "metadata": {
    "collapsed": false
   },
   "outputs": [],
   "source": [
    "def predict_order_testset(testfolder):\n",
    "    files_names = os.listdir(path+testfolder)\n",
    "    files_names = [int(files_names[i][:-4]) for i in range(len(files_names))]\n",
    "    N = int(math.ceil(len(files_names)/batch_size))\n",
    "    predictions = [x for i in range(N) for x in batch_dogness(test_batches).tolist()]\n",
    "    predictions_ordered = [x for (y,x) in sorted(zip(files_names,predictions))]\n",
    "    return predictions_ordered"
   ]
  },
  {
   "cell_type": "code",
   "execution_count": 6,
   "metadata": {
    "collapsed": true
   },
   "outputs": [],
   "source": [
    "def write_csv(predictions_ordered):\n",
    "    with open('test.csv', 'wb') as f:\n",
    "        fieldnames = ['id', 'label']\n",
    "        wr = csv.writer(f, delimiter=',')\n",
    "        wr.writerow(fieldnames)\n",
    "        for i in range(len(predictions_ordered)):\n",
    "            wr.writerow([i+1,predictions_ordered[i]])"
   ]
  },
  {
   "cell_type": "code",
   "execution_count": 7,
   "metadata": {
    "collapsed": false
   },
   "outputs": [
    {
     "name": "stdout",
     "output_type": "stream",
     "text": [
      "['test/11.jpg', 'test/5.jpg', 'test/7.jpg', 'test/9.jpg', 'test/12.jpg', 'test/6.jpg', 'test/1.jpg', 'test/4.jpg', 'test/8.jpg', 'test/3.jpg', 'test/10.jpg', 'test/2.jpg']\n",
      "['test/11.jpg', 'test/5.jpg', 'test/7.jpg', 'test/9.jpg', 'test/12.jpg', 'test/6.jpg', 'test/1.jpg', 'test/4.jpg', 'test/8.jpg', 'test/3.jpg', 'test/10.jpg', 'test/2.jpg']\n",
      "['test/11.jpg', 'test/5.jpg', 'test/7.jpg', 'test/9.jpg', 'test/12.jpg', 'test/6.jpg', 'test/1.jpg', 'test/4.jpg', 'test/8.jpg', 'test/3.jpg', 'test/10.jpg', 'test/2.jpg']\n",
      "['test/11.jpg', 'test/5.jpg', 'test/7.jpg', 'test/9.jpg', 'test/12.jpg', 'test/6.jpg', 'test/1.jpg', 'test/4.jpg', 'test/8.jpg', 'test/3.jpg', 'test/10.jpg', 'test/2.jpg']\n"
     ]
    }
   ],
   "source": [
    "pre\n",
    "write_csv(predictions)"
   ]
  },
  {
   "cell_type": "code",
   "execution_count": null,
   "metadata": {
    "collapsed": true
   },
   "outputs": [],
   "source": []
  }
 ],
 "metadata": {
  "anaconda-cloud": {},
  "kernelspec": {
   "display_name": "Python [conda root]",
   "language": "python",
   "name": "conda-root-py"
  },
  "language_info": {
   "codemirror_mode": {
    "name": "ipython",
    "version": 2
   },
   "file_extension": ".py",
   "mimetype": "text/x-python",
   "name": "python",
   "nbconvert_exporter": "python",
   "pygments_lexer": "ipython2",
   "version": "2.7.12"
  }
 },
 "nbformat": 4,
 "nbformat_minor": 1
}
