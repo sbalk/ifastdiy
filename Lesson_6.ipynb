{
 "cells": [
  {
   "cell_type": "markdown",
   "metadata": {},
   "source": [
    "* Pseudo labeling\n",
    "    * Jeremy made a batch iterator class that combines training data with test data that you labeled with a previous model.\n",
    "    * You can also add validation data, at the end of training to improve the last bit.\n",
    "* Embeddings\n",
    "    * embeddings() just looks up the embeddings of a certain called user/movie index. Then you merge() them with a dot product, add biases and compare to the actual rating to find the error.\n",
    "* RNN's\n",
    "    * It's really all about memory.\n",
    "    * \n",
    "    "
   ]
  }
 ],
 "metadata": {
  "kernelspec": {
   "display_name": "Python [conda env:fastai]",
   "language": "python",
   "name": "conda-env-fastai-py"
  },
  "language_info": {
   "codemirror_mode": {
    "name": "ipython",
    "version": 2
   },
   "file_extension": ".py",
   "mimetype": "text/x-python",
   "name": "python",
   "nbconvert_exporter": "python",
   "pygments_lexer": "ipython2",
   "version": "2.7.13"
  }
 },
 "nbformat": 4,
 "nbformat_minor": 2
}
