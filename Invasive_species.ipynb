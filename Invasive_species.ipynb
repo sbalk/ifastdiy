{
 "cells": [
  {
   "cell_type": "code",
   "execution_count": 1,
   "metadata": {},
   "outputs": [
    {
     "name": "stderr",
     "output_type": "stream",
     "text": [
      "WARNING (theano.sandbox.cuda): The cuda backend is deprecated and will be removed in the next release (v0.10).  Please switch to the gpuarray backend. You can get more information about how to switch at this URL:\n",
      " https://github.com/Theano/Theano/wiki/Converting-to-the-new-gpu-back-end%28gpuarray%29\n",
      "\n",
      "WARNING (theano.sandbox.cuda): CUDA is installed, but device gpu is not available  (error: Unable to get the number of gpus available: CUDA driver version is insufficient for CUDA runtime version)\n"
     ]
    }
   ],
   "source": [
    "from theano.sandbox import cuda\n",
    "%matplotlib inline"
   ]
  },
  {
   "cell_type": "code",
   "execution_count": 2,
   "metadata": {
    "collapsed": true
   },
   "outputs": [],
   "source": [
    "# Import modules\n",
    "import csv\n",
    "import shutil\n",
    "import os, sys\n",
    "import glob\n",
    "import numpy as np\n",
    "import math\n",
    "import json\n",
    "import matplotlib.pyplot as plt\n",
    "%matplotlib inline\n",
    "\n",
    "# Set directories\n",
    "HOME_DIR = os.getcwd()\n",
    "DATA_PATH = 'data/invasivespecies'\n",
    "DATA_HOME_DIR = os.path.abspath(HOME_DIR+'/'+DATA_PATH)\n",
    "\n",
    "path = DATA_HOME_DIR\n",
    "# Use sample?\n",
    "path = path + '/sample'\n",
    "\n",
    "train_path = path + '/train/'\n",
    "valid_path = path + '/valid/'\n",
    "test_path = path + '/test/'\n",
    "results_path= path + '/results/'\n",
    "model_path = path + '/models/'"
   ]
  },
  {
   "cell_type": "code",
   "execution_count": 3,
   "metadata": {
    "collapsed": true
   },
   "outputs": [],
   "source": [
    "# Settings\n",
    "batch_size=64"
   ]
  },
  {
   "cell_type": "markdown",
   "metadata": {
    "heading_collapsed": true
   },
   "source": [
    "# Folder ordering"
   ]
  },
  {
   "cell_type": "markdown",
   "metadata": {
    "heading_collapsed": true,
    "hidden": true
   },
   "source": [
    "## 1. Create train subdirectories and order images in labeled directories"
   ]
  },
  {
   "cell_type": "code",
   "execution_count": 6,
   "metadata": {
    "hidden": true
   },
   "outputs": [
    {
     "name": "stdout",
     "output_type": "stream",
     "text": [
      "/media/Data/Documents/Notebooks/Courses/fastai/data/invasivespecies\n"
     ]
    }
   ],
   "source": [
    "print(path)"
   ]
  },
  {
   "cell_type": "code",
   "execution_count": 8,
   "metadata": {
    "hidden": true
   },
   "outputs": [
    {
     "name": "stdout",
     "output_type": "stream",
     "text": [
      "mkdir: cannot create directory ‘/media/Data/Documents/Notebooks/Courses/fastai/data/invasivespecies/backup’: File exists\n",
      "mv: cannot stat '/media/Data/Documents/Notebooks/Courses/fastai/data/invasivespecies/train': No such file or directory\n"
     ]
    }
   ],
   "source": [
    "# Move train folder to backup and rename to train_unordered\n",
    "%mkdir $DATA_HOME_DIR/backup\n",
    "%mv $DATA_HOME_DIR/train $DATA_HOME_DIR/backup\n",
    "%mv $DATA_HOME_DIR/backup/train $DATA_HOME_DIR/backup/train_unordered"
   ]
  },
  {
   "cell_type": "code",
   "execution_count": 9,
   "metadata": {
    "collapsed": true,
    "hidden": true
   },
   "outputs": [],
   "source": [
    "# Change test folder to test/unknown\n",
    "%mv $DATA_HOME_DIR/test $DATA_HOME_DIR/unknown\n",
    "%mkdir $DATA_HOME_DIR/test\n",
    "%mv $DATA_HOME_DIR/unknown $DATA_HOME_DIR/test"
   ]
  },
  {
   "cell_type": "code",
   "execution_count": 10,
   "metadata": {
    "hidden": true
   },
   "outputs": [
    {
     "name": "stdout",
     "output_type": "stream",
     "text": [
      "rm: cannot remove '/media/Data/Documents/Notebooks/Courses/fastai/data/invasivespecies/results/': No such file or directory\n",
      "rm: cannot remove '/media/Data/Documents/Notebooks/Courses/fastai/data/invasivespecies/valid/': No such file or directory\n",
      "rm: cannot remove '/media/Data/Documents/Notebooks/Courses/fastai/data/invasivespecies/sample/': No such file or directory\n",
      "rm: cannot remove '/media/Data/Documents/Notebooks/Courses/fastai/data/invasivespecies/train/': No such file or directory\n",
      "rm: cannot remove '/media/Data/Documents/Notebooks/Courses/fastai/data/invasivespecies/models/': No such file or directory\n"
     ]
    }
   ],
   "source": [
    "# Remove all folders created by this script (not test/ and backup/)\n",
    "%rm -r $DATA_HOME_DIR/results/\n",
    "%rm -r $DATA_HOME_DIR/valid/\n",
    "%rm -r $DATA_HOME_DIR/sample/\n",
    "%rm -r $DATA_HOME_DIR/train/\n",
    "%rm -r $DATA_HOME_DIR/models/"
   ]
  },
  {
   "cell_type": "code",
   "execution_count": 11,
   "metadata": {
    "collapsed": true,
    "hidden": true
   },
   "outputs": [],
   "source": [
    "# Create directories\n",
    "%mkdir -p $DATA_HOME_DIR/train/invasive/\n",
    "%mkdir -p $DATA_HOME_DIR/train/non_invasive/\n",
    "%mkdir -p $DATA_HOME_DIR/results/\n",
    "%mkdir -p $DATA_HOME_DIR/models/"
   ]
  },
  {
   "cell_type": "code",
   "execution_count": 12,
   "metadata": {
    "collapsed": true,
    "hidden": true
   },
   "outputs": [],
   "source": [
    "def list_pictures_by_label(csvfile):\n",
    "    plantfile = []\n",
    "    both = []\n",
    "    labels = []\n",
    "    with open(DATA_HOME_DIR+'/'+csvfile+'.csv', 'rb') as f:\n",
    "        train_labels = csv.reader(f, delimiter=' ')\n",
    "        temp = next(train_labels)\n",
    "        for row in train_labels:\n",
    "            both.append(row)\n",
    "            plantfile.append(int(row[0][:-2]))\n",
    "            labels.append(int(row[0][-1:]))\n",
    "    invasive = [str(plantfile[i])+'.jpg' for i,x in enumerate(labels) if x==1]\n",
    "    non_invasive = [str(plantfile[i])+'.jpg' for i,x in enumerate(labels) if x==0]\n",
    "    return invasive, non_invasive\n",
    "\n",
    "def copy_files_from_train_to_trainlabel(invasive, non_invasive):\n",
    "    for i in range(len(invasive)):\n",
    "        shutil.move(DATA_HOME_DIR+'/backup/train_unordered/'+invasive[i], DATA_HOME_DIR+'/train/invasive/')\n",
    "    for j in range(len(non_invasive)):\n",
    "        shutil.move(DATA_HOME_DIR+'/backup/train_unordered/'+non_invasive[j], DATA_HOME_DIR+'/train/non_invasive/')"
   ]
  },
  {
   "cell_type": "code",
   "execution_count": 16,
   "metadata": {
    "collapsed": true,
    "hidden": true
   },
   "outputs": [],
   "source": [
    "copy_files_from_train_to_trainlabel(*list_pictures_by_label('train_labels'))"
   ]
  },
  {
   "cell_type": "markdown",
   "metadata": {
    "heading_collapsed": true,
    "hidden": true
   },
   "source": [
    "## 2. Create valid and sample directories"
   ]
  },
  {
   "cell_type": "code",
   "execution_count": 17,
   "metadata": {
    "collapsed": true,
    "hidden": true
   },
   "outputs": [],
   "source": [
    "# Create directories\n",
    "%mkdir -p $DATA_HOME_DIR/valid/invasive\n",
    "%mkdir -p $DATA_HOME_DIR/valid/non_invasive\n",
    "%mkdir -p $DATA_HOME_DIR/results"
   ]
  },
  {
   "cell_type": "code",
   "execution_count": 18,
   "metadata": {
    "collapsed": true,
    "hidden": true
   },
   "outputs": [],
   "source": [
    "def move_from_train_to_valid():\n",
    "    dirs = os.listdir(DATA_HOME_DIR+'/train')\n",
    "    print(dirs)\n",
    "    for iterator in dirs:\n",
    "        if os.listdir(DATA_HOME_DIR+'/valid/'+iterator+'/') == []:\n",
    "            g = glob.glob(DATA_HOME_DIR+'/train/'+iterator+'/'+'*.jpg')\n",
    "            shuf = np.random.permutation(g)\n",
    "            for i in range(int(math.ceil(0.08*len(g)))):\n",
    "#                 print(DATA_HOME_DIR+'/valid/'+iterator+'/'+ os.path.basename(shuf[i]))\n",
    "                shutil.move(shuf[i], DATA_HOME_DIR+'/valid/'+iterator+'/'+ os.path.basename(shuf[i]))\n",
    "        else:\n",
    "            print('/valid/'+ str(iterator)+ 'folder not empty')"
   ]
  },
  {
   "cell_type": "code",
   "execution_count": 19,
   "metadata": {
    "hidden": true
   },
   "outputs": [
    {
     "name": "stdout",
     "output_type": "stream",
     "text": [
      "['invasive', 'non_invasive']\n"
     ]
    }
   ],
   "source": [
    "move_from_train_to_valid()"
   ]
  },
  {
   "cell_type": "code",
   "execution_count": 20,
   "metadata": {
    "hidden": true
   },
   "outputs": [
    {
     "name": "stdout",
     "output_type": "stream",
     "text": [
      "rm: cannot remove '/media/Data/Documents/Notebooks/Courses/fastai/data/invasivespecies/sample/results/': No such file or directory\n",
      "rm: cannot remove '/media/Data/Documents/Notebooks/Courses/fastai/data/invasivespecies/sample/valid/invasive/': No such file or directory\n",
      "rm: cannot remove '/media/Data/Documents/Notebooks/Courses/fastai/data/invasivespecies/sample/valid/non_invasive/': No such file or directory\n",
      "rm: cannot remove '/media/Data/Documents/Notebooks/Courses/fastai/data/invasivespecies/sample/train/invasive/': No such file or directory\n",
      "rm: cannot remove '/media/Data/Documents/Notebooks/Courses/fastai/data/invasivespecies/sample/train/non_invasive/': No such file or directory\n",
      "rm: cannot remove '/media/Data/Documents/Notebooks/Courses/fastai/data/invasivespecies/sample/test/unknown': No such file or directory\n",
      "rm: cannot remove '/media/Data/Documents/Notebooks/Courses/fastai/data/invasivespecies/sample/models/': No such file or directory\n"
     ]
    }
   ],
   "source": [
    "# Remove directories\n",
    "%rm -r $DATA_HOME_DIR/sample/results/\n",
    "%rm -r $DATA_HOME_DIR/sample/valid/invasive/\n",
    "%rm -r $DATA_HOME_DIR/sample/valid/non_invasive/\n",
    "%rm -r $DATA_HOME_DIR/sample/train/invasive/\n",
    "%rm -r $DATA_HOME_DIR/sample/train/non_invasive/\n",
    "%rm -r $DATA_HOME_DIR/sample/test/unknown\n",
    "%rm -r $DATA_HOME_DIR/sample/models/"
   ]
  },
  {
   "cell_type": "code",
   "execution_count": 21,
   "metadata": {
    "collapsed": true,
    "hidden": true
   },
   "outputs": [],
   "source": [
    "# Create directories\n",
    "%mkdir -p $DATA_HOME_DIR/sample/results/\n",
    "%mkdir -p $DATA_HOME_DIR/sample/valid/invasive/\n",
    "%mkdir -p $DATA_HOME_DIR/sample/valid/non_invasive/\n",
    "%mkdir -p $DATA_HOME_DIR/sample/train/invasive/\n",
    "%mkdir -p $DATA_HOME_DIR/sample/train/non_invasive/\n",
    "%mkdir -p $DATA_HOME_DIR/sample/test/unknown\n",
    "%mkdir -p $DATA_HOME_DIR/sample/models/"
   ]
  },
  {
   "cell_type": "code",
   "execution_count": 22,
   "metadata": {
    "collapsed": true,
    "hidden": true
   },
   "outputs": [],
   "source": [
    "def create_samplefolder():\n",
    "    dirs = os.listdir(DATA_HOME_DIR+'/train')\n",
    "    if os.listdir(DATA_HOME_DIR+'/sample/train/'+dirs[0]+'/') == []:\n",
    "        for iterator in dirs:\n",
    "            g = glob.glob(DATA_HOME_DIR+'/train/'+iterator+'/'+'*.jpg')\n",
    "            shuf = np.random.permutation(g)\n",
    "            for i in range(20):\n",
    "                shutil.copyfile(shuf[i], DATA_HOME_DIR+'/sample/train/'+iterator+'/'+ os.path.basename(shuf[i]))\n",
    "            for i in range(10):\n",
    "                shutil.copyfile(shuf[i], DATA_HOME_DIR+'/sample/valid/'+iterator+'/'+ os.path.basename(shuf[i]))\n",
    "    else:\n",
    "        print('/sample/train/ or /sample/valid/ folder not empty')\n",
    "    if os.listdir(DATA_HOME_DIR+'/sample/test/unknown/') == []:\n",
    "        g = glob.glob(DATA_HOME_DIR+'/test/unknown/'+'*.jpg')\n",
    "        shuf = np.random.permutation(g)\n",
    "        for i in range(10):\n",
    "                    shutil.copyfile(shuf[i], DATA_HOME_DIR+'/sample/test/unknown/'+ os.path.basename(shuf[i]))\n",
    "    else:\n",
    "        print('/sample/test/unknown/ folder not empty')"
   ]
  },
  {
   "cell_type": "code",
   "execution_count": 23,
   "metadata": {
    "collapsed": true,
    "hidden": true
   },
   "outputs": [],
   "source": [
    "create_samplefolder()"
   ]
  },
  {
   "cell_type": "markdown",
   "metadata": {
    "heading_collapsed": true
   },
   "source": [
    "# plot loss"
   ]
  },
  {
   "cell_type": "code",
   "execution_count": 48,
   "metadata": {
    "collapsed": true,
    "hidden": true
   },
   "outputs": [],
   "source": [
    "from keras.models import Sequential\n",
    "from keras.layers.core import Dense, Flatten\n",
    "from keras.layers.normalization import BatchNormalization\n",
    "from keras.optimizers import Adam\n",
    "from keras.callbacks import Callback\n",
    "\n",
    "class LossHistory(Callback):\n",
    "    def on_train_begin(self, logs={}):\n",
    "        self.loss = []\n",
    "        self.acc = []\n",
    "        self.val_loss = []\n",
    "        self.val_acc = []\n",
    "\n",
    "    def on_batch_end(self, batch, logs={}):\n",
    "        self.loss = np.append(self.loss, logs.get('loss'))\n",
    "        self.acc = np.append(self.acc, logs.get('acc'))\n",
    "        \n",
    "    def on_epoch_end(self, batch, logs={}):\n",
    "        self.val_loss = np.append(self.val_loss, logs.get('val_loss'))\n",
    "        self.val_acc = np.append(self.val_acc, logs.get('val_acc'))"
   ]
  },
  {
   "cell_type": "code",
   "execution_count": null,
   "metadata": {
    "collapsed": true,
    "hidden": true
   },
   "outputs": [],
   "source": [
    "model = Sequential([\n",
    "    BatchNormalization(input_shape=(3,224,224)),\n",
    "    Flatten(),\n",
    "    Dense(100, activation='softmax'),\n",
    "    Dense(2, activation='softmax')\n",
    "])"
   ]
  },
  {
   "cell_type": "code",
   "execution_count": 253,
   "metadata": {
    "collapsed": true,
    "hidden": true
   },
   "outputs": [],
   "source": [
    "model.compile(optimizer=Adam(), loss='sparse_categorical_crossentropy', metrics=['accuracy'])"
   ]
  },
  {
   "cell_type": "code",
   "execution_count": 254,
   "metadata": {
    "collapsed": true,
    "hidden": true
   },
   "outputs": [
    {
     "name": "stdout",
     "output_type": "stream",
     "text": [
      "____________________________________________________________________________________________________\n",
      "Layer (type)                     Output Shape          Param #     Connected to                     \n",
      "====================================================================================================\n",
      "batchnormalization_17 (BatchNorm (None, 3, 224, 224)   896         batchnormalization_input_17[0][0]\n",
      "____________________________________________________________________________________________________\n",
      "flatten_17 (Flatten)             (None, 150528)        0           batchnormalization_17[0][0]      \n",
      "____________________________________________________________________________________________________\n",
      "dense_33 (Dense)                 (None, 100)           15052900    flatten_17[0][0]                 \n",
      "____________________________________________________________________________________________________\n",
      "dense_34 (Dense)                 (None, 2)             202         dense_33[0][0]                   \n",
      "====================================================================================================\n",
      "Total params: 15,053,998\n",
      "Trainable params: 15,053,550\n",
      "Non-trainable params: 448\n",
      "____________________________________________________________________________________________________\n"
     ]
    }
   ],
   "source": [
    "model.summary()\n",
    "history = LossHistory()"
   ]
  },
  {
   "cell_type": "code",
   "execution_count": 255,
   "metadata": {
    "collapsed": true,
    "hidden": true
   },
   "outputs": [
    {
     "name": "stdout",
     "output_type": "stream",
     "text": [
      "Epoch 1/10\n",
      "40/40 [==============================] - 3s - loss: 0.6877 - acc: 0.6000 - val_loss: 0.7057 - val_acc: 0.5000\n",
      "Epoch 2/10\n",
      "40/40 [==============================] - 4s - loss: 0.6107 - acc: 0.9000 - val_loss: 0.7093 - val_acc: 0.5000\n",
      "Epoch 3/10\n",
      "40/40 [==============================] - 3s - loss: 0.5991 - acc: 0.9250 - val_loss: 0.7095 - val_acc: 0.5000\n",
      "Epoch 4/10\n",
      "40/40 [==============================] - 3s - loss: 0.5979 - acc: 0.9500 - val_loss: 0.7216 - val_acc: 0.4000\n",
      "Epoch 5/10\n",
      "40/40 [==============================] - 3s - loss: 0.5978 - acc: 0.9250 - val_loss: 0.7284 - val_acc: 0.4000\n",
      "Epoch 6/10\n",
      "40/40 [==============================] - 2s - loss: 0.5974 - acc: 0.9250 - val_loss: 0.7218 - val_acc: 0.4000\n",
      "Epoch 7/10\n",
      "40/40 [==============================] - 2s - loss: 0.5963 - acc: 0.9500 - val_loss: 0.7117 - val_acc: 0.4000\n",
      "Epoch 8/10\n",
      "40/40 [==============================] - 2s - loss: 0.5955 - acc: 0.9500 - val_loss: 0.7031 - val_acc: 0.4500\n",
      "Epoch 9/10\n",
      "40/40 [==============================] - 2s - loss: 0.5948 - acc: 0.9500 - val_loss: 0.6980 - val_acc: 0.5000\n",
      "Epoch 10/10\n",
      "40/40 [==============================] - 2s - loss: 0.5940 - acc: 0.9500 - val_loss: 0.6948 - val_acc: 0.5000\n"
     ]
    },
    {
     "data": {
      "text/plain": [
       "<keras.callbacks.History at 0x7f9b9c373650>"
      ]
     },
     "execution_count": 255,
     "metadata": {},
     "output_type": "execute_result"
    }
   ],
   "source": [
    "nb_epoch = 10\n",
    "model.fit_generator(batches, batches.nb_sample, nb_epoch=nb_epoch, \n",
    "                    validation_data=valbatches, nb_val_samples=valbatches.nb_sample, callbacks=[history])"
   ]
  },
  {
   "cell_type": "code",
   "execution_count": 256,
   "metadata": {
    "hidden": true
   },
   "outputs": [
    {
     "data": {
      "text/plain": [
       "(0, 1)"
      ]
     },
     "execution_count": 256,
     "metadata": {},
     "output_type": "execute_result"
    },
    {
     "data": {
      "image/png": "[encoded data removed]",
      "text/plain": [
       "<matplotlib.figure.Figure at 0x7f9b9bf2e210>"
      ]
     },
     "metadata": {},
     "output_type": "display_data"
    }
   ],
   "source": [
    "x = range(nb_epoch)\n",
    "plt.plot(x, history.loss, color ='lightsalmon')\n",
    "plt.plot(x, history.acc, color ='red')\n",
    "plt.plot(x, history.val_loss, color ='lightgreen')\n",
    "plt.plot(x, history.val_acc, color ='green')\n",
    "plt.ylim(0,1)\n"
   ]
  },
  {
   "cell_type": "markdown",
   "metadata": {
    "heading_collapsed": true
   },
   "source": [
    "# Create batches"
   ]
  },
  {
   "cell_type": "code",
   "execution_count": 4,
   "metadata": {
    "hidden": true
   },
   "outputs": [
    {
     "name": "stderr",
     "output_type": "stream",
     "text": [
      "Using Theano backend.\n"
     ]
    },
    {
     "name": "stdout",
     "output_type": "stream",
     "text": [
      "Found 40 images belonging to 2 classes.\n",
      "Found 20 images belonging to 2 classes.\n"
     ]
    }
   ],
   "source": [
    "from keras.preprocessing import image\n",
    "gen = image.ImageDataGenerator()\n",
    "batches = gen.flow_from_directory(train_path, target_size=(224,224), batch_size=batch_size, class_mode='categorical')\n",
    "val_batches = gen.flow_from_directory(valid_path, target_size=(224,224), batch_size=batch_size, class_mode='categorical')"
   ]
  },
  {
   "cell_type": "markdown",
   "metadata": {
    "collapsed": true,
    "heading_collapsed": true
   },
   "source": [
    "# Simple model"
   ]
  },
  {
   "cell_type": "code",
   "execution_count": 37,
   "metadata": {
    "collapsed": true,
    "hidden": true
   },
   "outputs": [],
   "source": [
    "import keras\n",
    "from keras.models import Sequential\n",
    "from keras.layers.normalization import BatchNormalization\n",
    "from keras.layers.core import Dense, Dropout, Flatten\n",
    "from keras.layers.convolutional import Convolution2D\n",
    "\n",
    "model = Sequential([\n",
    "    BatchNormalization(axis=1, input_shape=(3,224,224)),\n",
    "    Convolution2D(32,3,3, activation='relu'),\n",
    "    Flatten(),\n",
    "    Dense(2, activation='softmax')\n",
    "    ])"
   ]
  },
  {
   "cell_type": "code",
   "execution_count": 38,
   "metadata": {
    "collapsed": true,
    "hidden": true
   },
   "outputs": [],
   "source": [
    "from keras.optimizers import Adam\n",
    "\n",
    "model.compile(optimizer=Adam(lr=0.00001), loss='categorical_crossentropy', metrics=['accuracy'])"
   ]
  },
  {
   "cell_type": "code",
   "execution_count": 39,
   "metadata": {
    "collapsed": true,
    "hidden": true
   },
   "outputs": [
    {
     "name": "stdout",
     "output_type": "stream",
     "text": [
      "Epoch 1/1\n",
      "40/40 [==============================] - 3s - loss: 0.7355 - acc: 0.4250 - val_loss: 6.8344 - val_acc: 0.5000\n"
     ]
    },
    {
     "data": {
      "text/plain": [
       "<keras.callbacks.History at 0x7fdc8795f050>"
      ]
     },
     "execution_count": 39,
     "metadata": {},
     "output_type": "execute_result"
    }
   ],
   "source": [
    "model.fit_generator(batches, batches.nb_sample, nb_epoch=1, validation_data=val_batches, nb_val_samples=val_batches.nb_sample)"
   ]
  },
  {
   "cell_type": "code",
   "execution_count": 40,
   "metadata": {
    "collapsed": true,
    "hidden": true
   },
   "outputs": [],
   "source": [
    "keras.optimizers.lr=0.001"
   ]
  },
  {
   "cell_type": "code",
   "execution_count": 41,
   "metadata": {
    "collapsed": true,
    "hidden": true
   },
   "outputs": [
    {
     "name": "stdout",
     "output_type": "stream",
     "text": [
      "Epoch 1/1\n",
      "40/40 [==============================] - 4s - loss: 0.4381 - acc: 0.8000 - val_loss: 5.8675 - val_acc: 0.5000\n"
     ]
    },
    {
     "data": {
      "text/plain": [
       "<keras.callbacks.History at 0x7fdc8765c090>"
      ]
     },
     "execution_count": 41,
     "metadata": {},
     "output_type": "execute_result"
    }
   ],
   "source": [
    "model.fit_generator(batches, batches.nb_sample, nb_epoch=1, validation_data=val_batches, nb_val_samples=val_batches.nb_sample)"
   ]
  },
  {
   "cell_type": "code",
   "execution_count": 40,
   "metadata": {
    "collapsed": true,
    "hidden": true
   },
   "outputs": [],
   "source": [
    "keras.optimizers.lr=0.0001"
   ]
  },
  {
   "cell_type": "code",
   "execution_count": 42,
   "metadata": {
    "hidden": true
   },
   "outputs": [
    {
     "name": "stdout",
     "output_type": "stream",
     "text": [
      "Epoch 1/2\n",
      "40/40 [==============================] - 4s - loss: 0.2724 - acc: 0.9750 - val_loss: 3.0364 - val_acc: 0.5000\n",
      "Epoch 2/2\n",
      "40/40 [==============================] - 3s - loss: 0.1663 - acc: 0.9750 - val_loss: 0.9849 - val_acc: 0.7500\n"
     ]
    },
    {
     "data": {
      "text/plain": [
       "<keras.callbacks.History at 0x7fdc8db24290>"
      ]
     },
     "execution_count": 42,
     "metadata": {},
     "output_type": "execute_result"
    }
   ],
   "source": [
    "model.fit_generator(batches, batches.nb_sample, nb_epoch=2, validation_data=val_batches, nb_val_samples=val_batches.nb_sample)"
   ]
  },
  {
   "cell_type": "code",
   "execution_count": 46,
   "metadata": {
    "collapsed": true,
    "hidden": true
   },
   "outputs": [],
   "source": [
    "keras.optimizers.lr=0.001"
   ]
  },
  {
   "cell_type": "code",
   "execution_count": 47,
   "metadata": {
    "hidden": true
   },
   "outputs": [
    {
     "name": "stdout",
     "output_type": "stream",
     "text": [
      "Epoch 1/8\n",
      "40/40 [==============================] - 4s - loss: 0.1029 - acc: 1.0000 - val_loss: 0.1745 - val_acc: 0.9000\n",
      "Epoch 2/8\n",
      "40/40 [==============================] - 2s - loss: 0.0656 - acc: 1.0000 - val_loss: 0.0204 - val_acc: 1.0000\n",
      "Epoch 3/8\n",
      "40/40 [==============================] - 2s - loss: 0.0435 - acc: 1.0000 - val_loss: 0.0041 - val_acc: 1.0000\n",
      "Epoch 4/8\n",
      "40/40 [==============================] - 3s - loss: 0.0301 - acc: 1.0000 - val_loss: 0.0016 - val_acc: 1.0000\n",
      "Epoch 5/8\n",
      "40/40 [==============================] - 3s - loss: 0.0216 - acc: 1.0000 - val_loss: 0.0010 - val_acc: 1.0000\n",
      "Epoch 6/8\n",
      "40/40 [==============================] - 2s - loss: 0.0160 - acc: 1.0000 - val_loss: 7.9904e-04 - val_acc: 1.0000\n",
      "Epoch 7/8\n",
      "40/40 [==============================] - 3s - loss: 0.0120 - acc: 1.0000 - val_loss: 7.2360e-04 - val_acc: 1.0000\n",
      "Epoch 8/8\n",
      "40/40 [==============================] - 2s - loss: 0.0092 - acc: 1.0000 - val_loss: 7.1036e-04 - val_acc: 1.0000\n"
     ]
    },
    {
     "data": {
      "text/plain": [
       "<keras.callbacks.History at 0x7fdc871fd9d0>"
      ]
     },
     "execution_count": 47,
     "metadata": {},
     "output_type": "execute_result"
    }
   ],
   "source": [
    "model.fit_generator(batches, batches.nb_sample, nb_epoch=8, validation_data=val_batches, nb_val_samples=val_batches.nb_sample)"
   ]
  },
  {
   "cell_type": "code",
   "execution_count": 48,
   "metadata": {
    "hidden": true
   },
   "outputs": [
    {
     "data": {
      "text/plain": [
       "array([[  9.99358594e-01,   6.41429215e-04],\n",
       "       [  9.99243259e-01,   7.56757683e-04],\n",
       "       [  9.97390687e-01,   2.60930089e-03],\n",
       "       [  9.99941885e-01,   5.81216373e-05],\n",
       "       [  9.97599483e-01,   2.40053725e-03],\n",
       "       [  9.98596430e-01,   1.40359858e-03],\n",
       "       [  9.94438767e-01,   5.56123955e-03],\n",
       "       [  9.99588490e-01,   4.11539600e-04],\n",
       "       [  9.99900818e-01,   9.91986890e-05],\n",
       "       [  9.99781668e-01,   2.18356334e-04],\n",
       "       [  2.34228359e-10,   1.00000000e+00],\n",
       "       [  5.51008910e-08,   9.99999940e-01],\n",
       "       [  1.32320820e-05,   9.99986768e-01],\n",
       "       [  2.97568103e-08,   1.00000000e+00],\n",
       "       [  9.64090873e-07,   9.99999046e-01],\n",
       "       [  1.74064585e-08,   1.00000000e+00],\n",
       "       [  3.41371219e-07,   9.99999642e-01],\n",
       "       [  6.63244373e-06,   9.99993384e-01],\n",
       "       [  2.61177320e-08,   1.00000000e+00],\n",
       "       [  1.99706506e-06,   9.99997973e-01]], dtype=float32)"
      ]
     },
     "execution_count": 48,
     "metadata": {},
     "output_type": "execute_result"
    }
   ],
   "source": [
    "model.predict_generator(val_batches, val_batches.nb_sample)"
   ]
  },
  {
   "cell_type": "code",
   "execution_count": 44,
   "metadata": {
    "hidden": true
   },
   "outputs": [
    {
     "name": "stdout",
     "output_type": "stream",
     "text": [
      "Found 20 images belonging to 2 classes.\n"
     ]
    }
   ],
   "source": [
    "def prediction(path):\n",
    "    gen = image.ImageDataGenerator()\n",
    "    batches = gen.flow_from_directory(path, target_size=(224,224), shuffle=False)\n",
    "    return batches, model.predict_generator(batches, batches.nb_sample)\n",
    "    \n",
    "def plots(ims, figsize=(12,6), rows=1, interp=False, titles=None):\n",
    "    if type(ims[0]) is np.ndarray:\n",
    "        ims = np.array(ims).astype(np.uint8)\n",
    "        if (ims.shape[-1] != 3):\n",
    "            ims = ims.transpose((0,2,3,1))\n",
    "    f = plt.figure(figsize=figsize)\n",
    "    cols = len(ims)//rows if len(ims) % 2 == 0 else len(ims)//rows + 1\n",
    "    for i in range(len(ims)):\n",
    "        sp = f.add_subplot(rows, cols, i+1)\n",
    "        sp.axis('Off')\n",
    "        if titles is not None:\n",
    "            sp.set_title(titles[i], fontsize=16)\n",
    "        plt.imshow(ims[i], interpolation=None if interp else 'none')\n",
    "        \n",
    "val_batches, probs = prediction(valid_path)\n",
    "filenames = val_batches.filenames\n",
    "expected_labels = val_batches.classes\n",
    "our_preds = probs[:,0]\n",
    "our_labels = np.round(1-our_preds)\n",
    "\n",
    "n_view=4\n",
    "def plots_idx(idx, titles=None):\n",
    "    plots([image.load_img(valid_path + filenames[i]) for i in idx], titles = titles)"
   ]
  },
  {
   "cell_type": "code",
   "execution_count": 50,
   "metadata": {
    "hidden": true
   },
   "outputs": [
    {
     "data": {
      "image/png": "[encoded data removed]",
      "text/plain": [
       "<matplotlib.figure.Figure at 0x7fdc81d64f50>"
      ]
     },
     "metadata": {},
     "output_type": "display_data"
    }
   ],
   "source": [
    "from numpy.random import permutation\n",
    "correct = np.where(our_labels == expected_labels)[0]\n",
    "idx = permutation(correct)[:n_view]\n",
    "plots_idx(idx, our_preds[idx])"
   ]
  },
  {
   "cell_type": "markdown",
   "metadata": {
    "heading_collapsed": true
   },
   "source": [
    "# VGG model"
   ]
  },
  {
   "cell_type": "code",
   "execution_count": 18,
   "metadata": {
    "collapsed": true,
    "hidden": true
   },
   "outputs": [],
   "source": [
    "from keras.layers.core import Lambda, Dense, Flatten, Dropout\n",
    "from keras.layers.convolutional import ZeroPadding2D, Convolution2D, MaxPooling2D\n",
    "from keras.models import Sequential\n",
    "from keras.utils.data_utils import get_file\n",
    "\n",
    "import numpy as np\n",
    "import json\n",
    "import keras\n",
    "\n",
    "vgg_mean = np.array([123.68, 116.779, 103.939]).reshape((3,1,1))\n",
    "def vgg_preprocess(x):\n",
    "    x = x - vgg_mean\n",
    "    return x[:, ::-1]\n",
    "\n",
    "def createvgg():\n",
    "    model = Sequential([\n",
    "        Lambda(vgg_preprocess, input_shape=(3,224,224), output_shape=(3,224,224)),\n",
    "\n",
    "        ZeroPadding2D((1,1)),\n",
    "        Convolution2D(64, 3, 3, activation='relu'),\n",
    "        ZeroPadding2D((1,1)),\n",
    "        Convolution2D(64, 3, 3, activation='relu'),\n",
    "        MaxPooling2D((2,2), strides=(2,2)),\n",
    "\n",
    "        ZeroPadding2D((1,1)),\n",
    "        Convolution2D(128, 3, 3, activation='relu'),\n",
    "        ZeroPadding2D((1,1)),\n",
    "        Convolution2D(128, 3, 3, activation='relu'),\n",
    "        MaxPooling2D((2,2), strides=(2,2)),\n",
    "\n",
    "        ZeroPadding2D((1,1)),\n",
    "        Convolution2D(256, 3, 3, activation='relu'),\n",
    "        ZeroPadding2D((1,1)),\n",
    "        Convolution2D(256, 3, 3, activation='relu'),\n",
    "        ZeroPadding2D((1,1)),\n",
    "        Convolution2D(256, 3, 3, activation='relu'),\n",
    "        MaxPooling2D((2,2), strides=(2,2)),\n",
    "\n",
    "        ZeroPadding2D((1,1)),\n",
    "        Convolution2D(512, 3, 3, activation='relu'),\n",
    "        ZeroPadding2D((1,1)),\n",
    "        Convolution2D(512, 3, 3, activation='relu'),\n",
    "        ZeroPadding2D((1,1)),\n",
    "        Convolution2D(512, 3, 3, activation='relu'),\n",
    "        MaxPooling2D((2,2), strides=(2,2)),\n",
    "\n",
    "        ZeroPadding2D((1,1)),\n",
    "        Convolution2D(512, 3, 3, activation='relu'),\n",
    "        ZeroPadding2D((1,1)),\n",
    "        Convolution2D(512, 3, 3, activation='relu'),\n",
    "        ZeroPadding2D((1,1)),\n",
    "        Convolution2D(512, 3, 3, activation='relu'),\n",
    "        MaxPooling2D((2,2), strides=(2,2)),\n",
    "\n",
    "        Flatten(),\n",
    "\n",
    "        Dense(4096, activation='relu'),\n",
    "        Dropout(0.5),\n",
    "        Dense(4096, activation='relu'),\n",
    "        Dropout(0.5),\n",
    "\n",
    "        Dense(1000, activation='softmax')\n",
    "    ])\n",
    "\n",
    "    FILES_PATH = 'http://files.fast.ai/models/'; CLASS_FILE='imagenet_class_index.json'\n",
    "    cpath = get_file(CLASS_FILE, FILES_PATH+CLASS_FILE, cache_subdir='models')\n",
    "    with open(cpath) as f: \n",
    "        class_dict = json.load(f)\n",
    "    classes = [class_dict[str(i)][1] for i in range(len(class_dict))]\n",
    "    mpath = get_file('vgg16.h5', FILES_PATH+'vgg16.h5', cache_subdir='models')\n",
    "    model.load_weights(mpath)\n",
    "    return model"
   ]
  },
  {
   "cell_type": "code",
   "execution_count": 22,
   "metadata": {
    "collapsed": true,
    "hidden": true
   },
   "outputs": [],
   "source": [
    "model = createvgg()"
   ]
  },
  {
   "cell_type": "code",
   "execution_count": 23,
   "metadata": {
    "collapsed": true,
    "hidden": true
   },
   "outputs": [],
   "source": [
    "model.pop()\n",
    "for layer in model.layers: \n",
    "    layer.trainable=False\n",
    "model.add(Dense(2, activation='softmax'))"
   ]
  },
  {
   "cell_type": "code",
   "execution_count": 24,
   "metadata": {
    "collapsed": true,
    "hidden": true
   },
   "outputs": [],
   "source": [
    "from keras.optimizers import Adam\n",
    "model.compile(optimizer=Adam(lr=0.00001), loss='categorical_crossentropy', metrics=['accuracy'])"
   ]
  },
  {
   "cell_type": "code",
   "execution_count": 25,
   "metadata": {
    "hidden": true
   },
   "outputs": [
    {
     "name": "stdout",
     "output_type": "stream",
     "text": [
      "Epoch 1/2\n",
      "40/40 [==============================] - 25s - loss: 1.3549 - acc: 0.5250 - val_loss: 0.9406 - val_acc: 0.4500\n",
      "Epoch 2/2\n",
      "40/40 [==============================] - 24s - loss: 0.8928 - acc: 0.6500 - val_loss: 0.9330 - val_acc: 0.4500\n"
     ]
    },
    {
     "data": {
      "text/plain": [
       "<keras.callbacks.History at 0x7ff953ec7490>"
      ]
     },
     "execution_count": 25,
     "metadata": {},
     "output_type": "execute_result"
    }
   ],
   "source": [
    "model.fit_generator(batches, samples_per_epoch=batches.nb_sample, nb_epoch=2, \n",
    "                    validation_data=val_batches, nb_val_samples=val_batches.nb_sample)"
   ]
  },
  {
   "cell_type": "code",
   "execution_count": 26,
   "metadata": {
    "hidden": true
   },
   "outputs": [
    {
     "name": "stdout",
     "output_type": "stream",
     "text": [
      "Epoch 1/2\n",
      "40/40 [==============================] - 25s - loss: 1.1522 - acc: 0.4750 - val_loss: 0.9260 - val_acc: 0.4500\n",
      "Epoch 2/2\n",
      "40/40 [==============================] - 24s - loss: 1.2770 - acc: 0.4750 - val_loss: 0.9189 - val_acc: 0.4500\n"
     ]
    },
    {
     "data": {
      "text/plain": [
       "<keras.callbacks.History at 0x7ff9741d16d0>"
      ]
     },
     "execution_count": 26,
     "metadata": {},
     "output_type": "execute_result"
    }
   ],
   "source": [
    "model.fit_generator(batches, samples_per_epoch=batches.nb_sample, nb_epoch=2, \n",
    "                    validation_data=val_batches, nb_val_samples=val_batches.nb_sample)"
   ]
  },
  {
   "cell_type": "code",
   "execution_count": 27,
   "metadata": {
    "hidden": true
   },
   "outputs": [
    {
     "name": "stdout",
     "output_type": "stream",
     "text": [
      "Epoch 1/4\n",
      "40/40 [==============================] - 27s - loss: 0.9982 - acc: 0.6000 - val_loss: 0.9120 - val_acc: 0.4500\n",
      "Epoch 2/4\n",
      "40/40 [==============================] - 26s - loss: 1.3860 - acc: 0.3750 - val_loss: 0.9051 - val_acc: 0.4500\n",
      "Epoch 3/4\n",
      "40/40 [==============================] - 28s - loss: 1.1858 - acc: 0.5750 - val_loss: 0.8982 - val_acc: 0.4500\n",
      "Epoch 4/4\n",
      "40/40 [==============================] - 28s - loss: 1.5031 - acc: 0.4250 - val_loss: 0.8916 - val_acc: 0.4500\n"
     ]
    },
    {
     "data": {
      "text/plain": [
       "<keras.callbacks.History at 0x7ff9741d6690>"
      ]
     },
     "execution_count": 27,
     "metadata": {},
     "output_type": "execute_result"
    }
   ],
   "source": [
    "model.fit_generator(batches, samples_per_epoch=batches.nb_sample, nb_epoch=4, \n",
    "                    validation_data=val_batches, nb_val_samples=val_batches.nb_sample)"
   ]
  },
  {
   "cell_type": "code",
   "execution_count": 30,
   "metadata": {
    "collapsed": true,
    "hidden": true
   },
   "outputs": [],
   "source": [
    "keras.optimizers.lr=0.001"
   ]
  },
  {
   "cell_type": "code",
   "execution_count": 31,
   "metadata": {
    "hidden": true
   },
   "outputs": [
    {
     "name": "stdout",
     "output_type": "stream",
     "text": [
      "Epoch 1/4\n",
      "40/40 [==============================] - 28s - loss: 1.4260 - acc: 0.4500 - val_loss: 0.8850 - val_acc: 0.4500\n",
      "Epoch 2/4\n",
      "40/40 [==============================] - 27s - loss: 0.8301 - acc: 0.6000 - val_loss: 0.8785 - val_acc: 0.4000\n",
      "Epoch 3/4\n",
      "40/40 [==============================] - 25s - loss: 1.0298 - acc: 0.5000 - val_loss: 0.8721 - val_acc: 0.4000\n",
      "Epoch 4/4\n",
      "40/40 [==============================] - 25s - loss: 1.3659 - acc: 0.4000 - val_loss: 0.8657 - val_acc: 0.4000\n"
     ]
    },
    {
     "data": {
      "text/plain": [
       "<keras.callbacks.History at 0x7ff976d649d0>"
      ]
     },
     "execution_count": 31,
     "metadata": {},
     "output_type": "execute_result"
    }
   ],
   "source": [
    "model.fit_generator(batches, samples_per_epoch=batches.nb_sample, nb_epoch=4, \n",
    "                    validation_data=val_batches, nb_val_samples=val_batches.nb_sample)"
   ]
  },
  {
   "cell_type": "code",
   "execution_count": 32,
   "metadata": {
    "hidden": true
   },
   "outputs": [
    {
     "name": "stdout",
     "output_type": "stream",
     "text": [
      "Epoch 1/8\n",
      "40/40 [==============================] - 25s - loss: 1.1704 - acc: 0.5500 - val_loss: 0.8593 - val_acc: 0.4000\n",
      "Epoch 2/8\n",
      "40/40 [==============================] - 24s - loss: 1.3412 - acc: 0.3750 - val_loss: 0.8529 - val_acc: 0.4000\n",
      "Epoch 3/8\n",
      "40/40 [==============================] - 25s - loss: 1.1077 - acc: 0.5750 - val_loss: 0.8467 - val_acc: 0.4000\n",
      "Epoch 4/8\n",
      "40/40 [==============================] - 28s - loss: 1.1418 - acc: 0.5250 - val_loss: 0.8405 - val_acc: 0.4000\n",
      "Epoch 5/8\n",
      "40/40 [==============================] - 27s - loss: 0.8781 - acc: 0.5750 - val_loss: 0.8345 - val_acc: 0.4000\n",
      "Epoch 6/8\n",
      "40/40 [==============================] - 26s - loss: 1.2964 - acc: 0.5750 - val_loss: 0.8285 - val_acc: 0.4500\n",
      "Epoch 7/8\n",
      "40/40 [==============================] - 26s - loss: 1.2587 - acc: 0.4500 - val_loss: 0.8226 - val_acc: 0.4500\n",
      "Epoch 8/8\n",
      "40/40 [==============================] - 27s - loss: 0.7798 - acc: 0.6000 - val_loss: 0.8170 - val_acc: 0.4500\n"
     ]
    },
    {
     "data": {
      "text/plain": [
       "<keras.callbacks.History at 0x7ff9741e4310>"
      ]
     },
     "execution_count": 32,
     "metadata": {},
     "output_type": "execute_result"
    }
   ],
   "source": [
    "model.fit_generator(batches, samples_per_epoch=batches.nb_sample, nb_epoch=8, \n",
    "                    validation_data=val_batches, nb_val_samples=val_batches.nb_sample)"
   ]
  },
  {
   "cell_type": "code",
   "execution_count": 33,
   "metadata": {
    "collapsed": true,
    "hidden": true
   },
   "outputs": [],
   "source": [
    "keras.optimizers.lr=0.0001"
   ]
  },
  {
   "cell_type": "code",
   "execution_count": 34,
   "metadata": {
    "hidden": true
   },
   "outputs": [
    {
     "name": "stdout",
     "output_type": "stream",
     "text": [
      "Epoch 1/8\n",
      "40/40 [==============================] - 27s - loss: 0.8893 - acc: 0.6250 - val_loss: 0.8114 - val_acc: 0.4500\n",
      "Epoch 2/8\n",
      "40/40 [==============================] - 25s - loss: 1.2097 - acc: 0.5750 - val_loss: 0.8058 - val_acc: 0.4500\n",
      "Epoch 3/8\n",
      "40/40 [==============================] - 26s - loss: 1.4770 - acc: 0.5000 - val_loss: 0.8001 - val_acc: 0.4500\n",
      "Epoch 4/8\n",
      "40/40 [==============================] - 27s - loss: 1.0062 - acc: 0.5500 - val_loss: 0.7945 - val_acc: 0.4500\n",
      "Epoch 5/8\n",
      "40/40 [==============================] - 28s - loss: 1.6455 - acc: 0.4750 - val_loss: 0.7890 - val_acc: 0.4500\n",
      "Epoch 6/8\n",
      "40/40 [==============================] - 27s - loss: 0.8992 - acc: 0.5500 - val_loss: 0.7836 - val_acc: 0.4500\n",
      "Epoch 7/8\n",
      "40/40 [==============================] - 32s - loss: 0.9538 - acc: 0.5750 - val_loss: 0.7784 - val_acc: 0.4500\n",
      "Epoch 8/8\n",
      "40/40 [==============================] - 28s - loss: 1.1348 - acc: 0.6250 - val_loss: 0.7731 - val_acc: 0.5000\n"
     ]
    },
    {
     "data": {
      "text/plain": [
       "<keras.callbacks.History at 0x7ff9741e0490>"
      ]
     },
     "execution_count": 34,
     "metadata": {},
     "output_type": "execute_result"
    }
   ],
   "source": [
    "model.fit_generator(batches, samples_per_epoch=batches.nb_sample, nb_epoch=8, \n",
    "                    validation_data=val_batches, nb_val_samples=val_batches.nb_sample)"
   ]
  },
  {
   "cell_type": "code",
   "execution_count": 35,
   "metadata": {
    "collapsed": true,
    "hidden": true
   },
   "outputs": [],
   "source": [
    "keras.optimizers.lr=0.00001"
   ]
  },
  {
   "cell_type": "code",
   "execution_count": 36,
   "metadata": {
    "hidden": true
   },
   "outputs": [
    {
     "name": "stdout",
     "output_type": "stream",
     "text": [
      "Epoch 1/4\n",
      "40/40 [==============================] - 31s - loss: 0.9633 - acc: 0.5500 - val_loss: 0.7680 - val_acc: 0.5000\n",
      "Epoch 2/4\n",
      "40/40 [==============================] - 27s - loss: 1.3751 - acc: 0.5500 - val_loss: 0.7631 - val_acc: 0.5000\n",
      "Epoch 3/4\n",
      "40/40 [==============================] - 25s - loss: 0.7679 - acc: 0.6750 - val_loss: 0.7580 - val_acc: 0.5000\n",
      "Epoch 4/4\n",
      "40/40 [==============================] - 27s - loss: 0.6044 - acc: 0.7500 - val_loss: 0.7531 - val_acc: 0.5000\n"
     ]
    },
    {
     "data": {
      "text/plain": [
       "<keras.callbacks.History at 0x7ff97421b050>"
      ]
     },
     "execution_count": 36,
     "metadata": {},
     "output_type": "execute_result"
    }
   ],
   "source": [
    "model.fit_generator(batches, samples_per_epoch=batches.nb_sample, nb_epoch=4, \n",
    "                    validation_data=val_batches, nb_val_samples=val_batches.nb_sample)"
   ]
  },
  {
   "cell_type": "code",
   "execution_count": 37,
   "metadata": {
    "hidden": true
   },
   "outputs": [
    {
     "name": "stdout",
     "output_type": "stream",
     "text": [
      "Epoch 1/8\n",
      "40/40 [==============================] - 28s - loss: 1.1115 - acc: 0.6000 - val_loss: 0.7483 - val_acc: 0.5500\n",
      "Epoch 2/8\n",
      "40/40 [==============================] - 28s - loss: 1.1043 - acc: 0.5500 - val_loss: 0.7437 - val_acc: 0.5500\n",
      "Epoch 3/8\n",
      "40/40 [==============================] - 26s - loss: 1.2497 - acc: 0.4500 - val_loss: 0.7390 - val_acc: 0.5500\n",
      "Epoch 4/8\n",
      "40/40 [==============================] - 29s - loss: 1.0919 - acc: 0.5500 - val_loss: 0.7343 - val_acc: 0.5500\n",
      "Epoch 5/8\n",
      "40/40 [==============================] - 30s - loss: 1.6105 - acc: 0.4250 - val_loss: 0.7297 - val_acc: 0.5500\n",
      "Epoch 6/8\n",
      "40/40 [==============================] - 27s - loss: 0.8823 - acc: 0.6500 - val_loss: 0.7252 - val_acc: 0.6000\n",
      "Epoch 7/8\n",
      "40/40 [==============================] - 27s - loss: 0.7335 - acc: 0.7250 - val_loss: 0.7209 - val_acc: 0.6000\n",
      "Epoch 8/8\n",
      "40/40 [==============================] - 27s - loss: 0.8345 - acc: 0.7000 - val_loss: 0.7165 - val_acc: 0.6000\n"
     ]
    },
    {
     "data": {
      "text/plain": [
       "<keras.callbacks.History at 0x7ff976f54d50>"
      ]
     },
     "execution_count": 37,
     "metadata": {},
     "output_type": "execute_result"
    }
   ],
   "source": [
    "model.fit_generator(batches, samples_per_epoch=batches.nb_sample, nb_epoch=8, \n",
    "                    validation_data=val_batches, nb_val_samples=val_batches.nb_sample)"
   ]
  },
  {
   "cell_type": "code",
   "execution_count": 38,
   "metadata": {
    "hidden": true
   },
   "outputs": [
    {
     "name": "stdout",
     "output_type": "stream",
     "text": [
      "Epoch 1/8\n",
      "40/40 [==============================] - 26s - loss: 0.8539 - acc: 0.5750 - val_loss: 0.7123 - val_acc: 0.6000\n",
      "Epoch 2/8\n",
      "40/40 [==============================] - 25s - loss: 0.9766 - acc: 0.5500 - val_loss: 0.7082 - val_acc: 0.6000\n",
      "Epoch 3/8\n",
      "40/40 [==============================] - 26s - loss: 1.0337 - acc: 0.6000 - val_loss: 0.7039 - val_acc: 0.6000\n",
      "Epoch 4/8\n",
      "40/40 [==============================] - 26s - loss: 1.0385 - acc: 0.6250 - val_loss: 0.6998 - val_acc: 0.6000\n",
      "Epoch 5/8\n",
      "40/40 [==============================] - 26s - loss: 0.7144 - acc: 0.7000 - val_loss: 0.6956 - val_acc: 0.6000\n",
      "Epoch 6/8\n",
      "40/40 [==============================] - 27s - loss: 0.8333 - acc: 0.6000 - val_loss: 0.6914 - val_acc: 0.6000\n",
      "Epoch 7/8\n",
      "40/40 [==============================] - 25s - loss: 0.7509 - acc: 0.6500 - val_loss: 0.6874 - val_acc: 0.6000\n",
      "Epoch 8/8\n",
      "40/40 [==============================] - 25s - loss: 1.0939 - acc: 0.5750 - val_loss: 0.6836 - val_acc: 0.6000\n"
     ]
    },
    {
     "data": {
      "text/plain": [
       "<keras.callbacks.History at 0x7ff976f54c50>"
      ]
     },
     "execution_count": 38,
     "metadata": {},
     "output_type": "execute_result"
    }
   ],
   "source": [
    "model.fit_generator(batches, samples_per_epoch=batches.nb_sample, nb_epoch=8, \n",
    "                    validation_data=val_batches, nb_val_samples=val_batches.nb_sample)"
   ]
  },
  {
   "cell_type": "code",
   "execution_count": 39,
   "metadata": {
    "collapsed": true,
    "hidden": true
   },
   "outputs": [],
   "source": [
    "keras.optimizers.lr=0.000001"
   ]
  },
  {
   "cell_type": "code",
   "execution_count": 40,
   "metadata": {
    "hidden": true
   },
   "outputs": [
    {
     "name": "stdout",
     "output_type": "stream",
     "text": [
      "Epoch 1/4\n",
      "40/40 [==============================] - 27s - loss: 1.0530 - acc: 0.5250 - val_loss: 0.6798 - val_acc: 0.6000\n",
      "Epoch 2/4\n",
      "40/40 [==============================] - 26s - loss: 1.1458 - acc: 0.5500 - val_loss: 0.6758 - val_acc: 0.6000\n",
      "Epoch 3/4\n",
      "40/40 [==============================] - 25s - loss: 1.0954 - acc: 0.4500 - val_loss: 0.6719 - val_acc: 0.6000\n",
      "Epoch 4/4\n",
      "40/40 [==============================] - 26s - loss: 1.2276 - acc: 0.5750 - val_loss: 0.6681 - val_acc: 0.6000\n"
     ]
    },
    {
     "data": {
      "text/plain": [
       "<keras.callbacks.History at 0x7ff957d7cf90>"
      ]
     },
     "execution_count": 40,
     "metadata": {},
     "output_type": "execute_result"
    }
   ],
   "source": [
    "model.fit_generator(batches, samples_per_epoch=batches.nb_sample, nb_epoch=4, \n",
    "                    validation_data=val_batches, nb_val_samples=val_batches.nb_sample)"
   ]
  },
  {
   "cell_type": "code",
   "execution_count": 41,
   "metadata": {
    "hidden": true
   },
   "outputs": [
    {
     "name": "stdout",
     "output_type": "stream",
     "text": [
      "Epoch 1/4\n",
      "40/40 [==============================] - 29s - loss: 0.9492 - acc: 0.4750 - val_loss: 0.6642 - val_acc: 0.6000\n",
      "Epoch 2/4\n",
      "40/40 [==============================] - 29s - loss: 1.1638 - acc: 0.4000 - val_loss: 0.6602 - val_acc: 0.6000\n",
      "Epoch 3/4\n",
      "40/40 [==============================] - 27s - loss: 0.8439 - acc: 0.6000 - val_loss: 0.6563 - val_acc: 0.6000\n",
      "Epoch 4/4\n",
      "40/40 [==============================] - 29s - loss: 0.9252 - acc: 0.7000 - val_loss: 0.6526 - val_acc: 0.6000\n"
     ]
    },
    {
     "data": {
      "text/plain": [
       "<keras.callbacks.History at 0x7ff977104310>"
      ]
     },
     "execution_count": 41,
     "metadata": {},
     "output_type": "execute_result"
    }
   ],
   "source": [
    "model.fit_generator(batches, samples_per_epoch=batches.nb_sample, nb_epoch=4, \n",
    "                    validation_data=val_batches, nb_val_samples=val_batches.nb_sample)"
   ]
  },
  {
   "cell_type": "markdown",
   "metadata": {},
   "source": [
    "# VGG with batchnorm and training.log"
   ]
  },
  {
   "cell_type": "code",
   "execution_count": 4,
   "metadata": {},
   "outputs": [
    {
     "name": "stderr",
     "output_type": "stream",
     "text": [
      "Using Theano backend.\n"
     ]
    }
   ],
   "source": [
    "from keras.layers.core import Lambda, Dense, Flatten, Dropout\n",
    "from keras.layers.convolutional import ZeroPadding2D, Convolution2D, MaxPooling2D\n",
    "from keras.layers.normalization import BatchNormalization\n",
    "from keras.models import Sequential\n",
    "from keras.utils.data_utils import get_file\n",
    "from keras.callbacks import CSVLogger\n",
    "\n",
    "import numpy as np\n",
    "import json\n",
    "import keras\n",
    "\n",
    "vgg_mean = np.array([123.68, 116.779, 103.939]).reshape((3,1,1))\n",
    "def vgg_preprocess(x):\n",
    "    x = x - vgg_mean\n",
    "    return x[:, ::-1]\n",
    "\n",
    "def createvggbn():\n",
    "    model = Sequential([\n",
    "        Lambda(vgg_preprocess, input_shape=(3,224,224), output_shape=(3,224,224)),\n",
    "\n",
    "        ZeroPadding2D((1,1)),\n",
    "        Convolution2D(64, 3, 3, activation='relu'),\n",
    "        ZeroPadding2D((1,1)),\n",
    "        Convolution2D(64, 3, 3, activation='relu'),\n",
    "        MaxPooling2D((2,2), strides=(2,2)),\n",
    "\n",
    "        ZeroPadding2D((1,1)),\n",
    "        Convolution2D(128, 3, 3, activation='relu'),\n",
    "        ZeroPadding2D((1,1)),\n",
    "        Convolution2D(128, 3, 3, activation='relu'),\n",
    "        MaxPooling2D((2,2), strides=(2,2)),\n",
    "\n",
    "        ZeroPadding2D((1,1)),\n",
    "        Convolution2D(256, 3, 3, activation='relu'),\n",
    "        ZeroPadding2D((1,1)),\n",
    "        Convolution2D(256, 3, 3, activation='relu'),\n",
    "        ZeroPadding2D((1,1)),\n",
    "        Convolution2D(256, 3, 3, activation='relu'),\n",
    "        MaxPooling2D((2,2), strides=(2,2)),\n",
    "\n",
    "        ZeroPadding2D((1,1)),\n",
    "        Convolution2D(512, 3, 3, activation='relu'),\n",
    "        ZeroPadding2D((1,1)),\n",
    "        Convolution2D(512, 3, 3, activation='relu'),\n",
    "        ZeroPadding2D((1,1)),\n",
    "        Convolution2D(512, 3, 3, activation='relu'),\n",
    "        MaxPooling2D((2,2), strides=(2,2)),\n",
    "\n",
    "        ZeroPadding2D((1,1)),\n",
    "        Convolution2D(512, 3, 3, activation='relu'),\n",
    "        ZeroPadding2D((1,1)),\n",
    "        Convolution2D(512, 3, 3, activation='relu'),\n",
    "        ZeroPadding2D((1,1)),\n",
    "        Convolution2D(512, 3, 3, activation='relu'),\n",
    "        MaxPooling2D((2,2), strides=(2,2)),\n",
    "\n",
    "        Flatten(),\n",
    "\n",
    "        Dense(4096, activation='relu'),\n",
    "        BatchNormalization(),\n",
    "        Dropout(0.5),\n",
    "        Dense(4096, activation='relu'),\n",
    "        BatchNormalization(),\n",
    "        Dropout(0.5),\n",
    "        Dense(1000, activation='softmax')\n",
    "    ])\n",
    "\n",
    "    FILES_PATH = 'http://files.fast.ai/models/'; CLASS_FILE='imagenet_class_index.json'\n",
    "    cpath = get_file(CLASS_FILE, FILES_PATH+CLASS_FILE, cache_subdir='models')\n",
    "    with open(cpath) as f: \n",
    "        class_dict = json.load(f)\n",
    "    classes = [class_dict[str(i)][1] for i in range(len(class_dict))]\n",
    "    mpath = get_file('vgg16_bn.h5', FILES_PATH+'vgg16_bn.h5', cache_subdir='models')\n",
    "    model.load_weights(mpath)\n",
    "    \n",
    "    #clear callback history\n",
    "    filename = \"training.log\"\n",
    "    f = open(filename, \"w+\")\n",
    "    f.close()\n",
    "    \n",
    "    return model\n",
    "\n",
    "csv_logger = CSVLogger('training.log', append=True)"
   ]
  },
  {
   "cell_type": "code",
   "execution_count": 147,
   "metadata": {
    "collapsed": true
   },
   "outputs": [],
   "source": [
    "import pandas as pd\n",
    "def plot_progress():\n",
    "    df = pd.read_csv('training.log')\n",
    "    history = df.as_matrix\n",
    "\n",
    "    x = range(df.values.shape[0])\n",
    "    x_ticks = df.values[:,0].astype(int)\n",
    "\n",
    "    plt.plot(x, df.values[:,1], color ='red', label='acc')\n",
    "    plt.plot(x, df.values[:,2], color ='lightsalmon', label='loss')\n",
    "    plt.plot(x, df.values[:,3], color ='green', label='val_acc')\n",
    "    plt.plot(x, df.values[:,4], color ='lightgreen', label='val_loss')\n",
    "    plt.ylim(0,)\n",
    "    plt.xticks(x, x_ticks)\n",
    "    plt.legend()"
   ]
  },
  {
   "cell_type": "code",
   "execution_count": 144,
   "metadata": {
    "collapsed": true
   },
   "outputs": [],
   "source": [
    "modelbn = createvggbn()"
   ]
  },
  {
   "cell_type": "code",
   "execution_count": 145,
   "metadata": {
    "collapsed": true
   },
   "outputs": [],
   "source": [
    "modelbn.pop()\n",
    "for layer in modelbn.layers: \n",
    "    layer.trainable=False\n",
    "modelbn.add(Dense(2, activation='softmax'))"
   ]
  },
  {
   "cell_type": "code",
   "execution_count": 146,
   "metadata": {
    "collapsed": true
   },
   "outputs": [],
   "source": [
    "from keras.optimizers import Adam\n",
    "modelbn.compile(optimizer=Adam(lr=0.00001), loss='categorical_crossentropy', metrics=['accuracy'])"
   ]
  },
  {
   "cell_type": "code",
   "execution_count": 148,
   "metadata": {},
   "outputs": [
    {
     "name": "stdout",
     "output_type": "stream",
     "text": [
      "Epoch 1/2\n",
      "40/40 [==============================] - 27s - loss: 2.5081 - acc: 0.4500 - val_loss: 0.9685 - val_acc: 0.5500\n",
      "Epoch 2/2\n",
      "40/40 [==============================] - 26s - loss: 2.0879 - acc: 0.5250 - val_loss: 0.9638 - val_acc: 0.5500\n"
     ]
    },
    {
     "data": {
      "image/png": "[encoded data removed]",
      "text/plain": [
       "<matplotlib.figure.Figure at 0x7ff936c35090>"
      ]
     },
     "metadata": {},
     "output_type": "display_data"
    }
   ],
   "source": [
    "modelbn.fit_generator(batches, samples_per_epoch=batches.nb_sample, nb_epoch=2, \n",
    "                    validation_data=val_batches, nb_val_samples=val_batches.nb_sample, callbacks=[csv_logger])\n",
    "plot_progress()"
   ]
  },
  {
   "cell_type": "code",
   "execution_count": 149,
   "metadata": {},
   "outputs": [
    {
     "name": "stdout",
     "output_type": "stream",
     "text": [
      "Epoch 1/2\n",
      "40/40 [==============================] - 27s - loss: 2.1125 - acc: 0.5500 - val_loss: 0.9599 - val_acc: 0.5500\n",
      "Epoch 2/2\n",
      "40/40 [==============================] - 26s - loss: 2.0318 - acc: 0.5250 - val_loss: 0.9563 - val_acc: 0.5500\n"
     ]
    },
    {
     "data": {
      "image/png": "[encoded data removed]",
      "text/plain": [
       "<matplotlib.figure.Figure at 0x7ff936e00890>"
      ]
     },
     "metadata": {},
     "output_type": "display_data"
    }
   ],
   "source": [
    "modelbn.fit_generator(batches, samples_per_epoch=batches.nb_sample, nb_epoch=2, \n",
    "                    validation_data=val_batches, nb_val_samples=val_batches.nb_sample, callbacks=[csv_logger])\n",
    "plot_progress()"
   ]
  },
  {
   "cell_type": "code",
   "execution_count": 55,
   "metadata": {},
   "outputs": [
    {
     "name": "stdout",
     "output_type": "stream",
     "text": [
      "Epoch 1/4\n",
      "40/40 [==============================] - 28s - loss: 1.6439 - acc: 0.5250 - val_loss: 1.1156 - val_acc: 0.6000\n",
      "Epoch 2/4\n",
      "40/40 [==============================] - 31s - loss: 2.7275 - acc: 0.5500 - val_loss: 1.1101 - val_acc: 0.6000\n",
      "Epoch 3/4\n",
      "40/40 [==============================] - 28s - loss: 2.4395 - acc: 0.5000 - val_loss: 1.1046 - val_acc: 0.6000\n",
      "Epoch 4/4\n",
      "40/40 [==============================] - 27s - loss: 2.4338 - acc: 0.5500 - val_loss: 1.0994 - val_acc: 0.6000\n"
     ]
    },
    {
     "data": {
      "text/plain": [
       "<keras.callbacks.History at 0x7ff93f258350>"
      ]
     },
     "execution_count": 55,
     "metadata": {},
     "output_type": "execute_result"
    }
   ],
   "source": [
    "modelbn.fit_generator(batches, samples_per_epoch=batches.nb_sample, nb_epoch=4, \n",
    "                    validation_data=val_batches, nb_val_samples=val_batches.nb_sample, callbacks=[csv_logger])"
   ]
  },
  {
   "cell_type": "code",
   "execution_count": 56,
   "metadata": {
    "collapsed": true
   },
   "outputs": [],
   "source": [
    "keras.optimizers.lr=0.001"
   ]
  },
  {
   "cell_type": "code",
   "execution_count": 57,
   "metadata": {
    "collapsed": true
   },
   "outputs": [
    {
     "name": "stdout",
     "output_type": "stream",
     "text": [
      "Epoch 1/4\n",
      "40/40 [==============================] - 29s - loss: 2.0116 - acc: 0.6250 - val_loss: 1.0936 - val_acc: 0.6000\n",
      "Epoch 2/4\n",
      "40/40 [==============================] - 32s - loss: 2.1259 - acc: 0.5250 - val_loss: 1.0889 - val_acc: 0.6000\n",
      "Epoch 3/4\n",
      "40/40 [==============================] - 28s - loss: 2.4641 - acc: 0.5250 - val_loss: 1.0831 - val_acc: 0.6000\n",
      "Epoch 4/4\n",
      "40/40 [==============================] - 26s - loss: 2.0725 - acc: 0.5500 - val_loss: 1.0768 - val_acc: 0.6000\n"
     ]
    },
    {
     "data": {
      "text/plain": [
       "<keras.callbacks.History at 0x7ff93f258310>"
      ]
     },
     "execution_count": 57,
     "metadata": {},
     "output_type": "execute_result"
    }
   ],
   "source": [
    "modelbn.fit_generator(batches, samples_per_epoch=batches.nb_sample, nb_epoch=4, \n",
    "                    validation_data=val_batches, nb_val_samples=val_batches.nb_sample, callbacks=[csv_logger])"
   ]
  },
  {
   "cell_type": "code",
   "execution_count": 66,
   "metadata": {
    "collapsed": true
   },
   "outputs": [
    {
     "name": "stdout",
     "output_type": "stream",
     "text": [
      "Epoch 1/4\n",
      "40/40 [==============================] - 25s - loss: 2.0884 - acc: 0.6000 - val_loss: 1.0707 - val_acc: 0.6000\n",
      "Epoch 2/4\n",
      "40/40 [==============================] - 28s - loss: 1.6929 - acc: 0.7250 - val_loss: 1.0651 - val_acc: 0.6000\n",
      "Epoch 3/4\n",
      "40/40 [==============================] - 28s - loss: 1.8738 - acc: 0.5000 - val_loss: 1.0595 - val_acc: 0.6000\n",
      "Epoch 4/4\n",
      "40/40 [==============================] - 27s - loss: 2.2405 - acc: 0.6000 - val_loss: 1.0517 - val_acc: 0.6000\n"
     ]
    },
    {
     "data": {
      "text/plain": [
       "<keras.callbacks.History at 0x7ff93e9a9c10>"
      ]
     },
     "execution_count": 66,
     "metadata": {},
     "output_type": "execute_result"
    }
   ],
   "source": [
    "modelbn.fit_generator(batches, samples_per_epoch=batches.nb_sample, nb_epoch=4, \n",
    "                    validation_data=val_batches, nb_val_samples=val_batches.nb_sample, callbacks=[csv_logger])"
   ]
  },
  {
   "cell_type": "code",
   "execution_count": 67,
   "metadata": {
    "collapsed": true
   },
   "outputs": [],
   "source": [
    "keras.optimizers.lr=0.0001"
   ]
  },
  {
   "cell_type": "code",
   "execution_count": 69,
   "metadata": {
    "collapsed": true
   },
   "outputs": [
    {
     "name": "stdout",
     "output_type": "stream",
     "text": [
      "Epoch 1/8\n",
      "40/40 [==============================] - 28s - loss: 1.5901 - acc: 0.4750 - val_loss: 1.0455 - val_acc: 0.6000\n",
      "Epoch 2/8\n",
      "40/40 [==============================] - 27s - loss: 1.6834 - acc: 0.5000 - val_loss: 1.0391 - val_acc: 0.6000\n",
      "Epoch 3/8\n",
      "40/40 [==============================] - 28s - loss: 2.2529 - acc: 0.5500 - val_loss: 1.0322 - val_acc: 0.6000\n",
      "Epoch 4/8\n",
      "40/40 [==============================] - 26s - loss: 1.9695 - acc: 0.6250 - val_loss: 1.0258 - val_acc: 0.6000\n",
      "Epoch 5/8\n",
      "40/40 [==============================] - 29s - loss: 2.1703 - acc: 0.4750 - val_loss: 1.0192 - val_acc: 0.6000\n",
      "Epoch 6/8\n",
      "40/40 [==============================] - 28s - loss: 2.3241 - acc: 0.5750 - val_loss: 1.0143 - val_acc: 0.6000\n",
      "Epoch 7/8\n",
      "40/40 [==============================] - 28s - loss: 1.6215 - acc: 0.6000 - val_loss: 1.0089 - val_acc: 0.6000\n",
      "Epoch 8/8\n",
      "40/40 [==============================] - 27s - loss: 1.6215 - acc: 0.6250 - val_loss: 1.0029 - val_acc: 0.6000\n"
     ]
    },
    {
     "data": {
      "text/plain": [
       "<keras.callbacks.History at 0x7ff947454a10>"
      ]
     },
     "execution_count": 69,
     "metadata": {},
     "output_type": "execute_result"
    }
   ],
   "source": [
    "modelbn.fit_generator(batches, samples_per_epoch=batches.nb_sample, nb_epoch=8, \n",
    "                    validation_data=val_batches, nb_val_samples=val_batches.nb_sample, callbacks=[csv_logger])"
   ]
  },
  {
   "cell_type": "code",
   "execution_count": 71,
   "metadata": {
    "collapsed": true
   },
   "outputs": [
    {
     "name": "stdout",
     "output_type": "stream",
     "text": [
      "Epoch 1/1\n",
      "40/40 [==============================] - 27s - loss: 1.5792 - acc: 0.6000 - val_loss: 0.9970 - val_acc: 0.6000\n"
     ]
    },
    {
     "data": {
      "text/plain": [
       "<keras.callbacks.History at 0x7ff94ce484d0>"
      ]
     },
     "execution_count": 71,
     "metadata": {},
     "output_type": "execute_result"
    }
   ],
   "source": [
    "modelbn.fit_generator(batches, samples_per_epoch=batches.nb_sample, nb_epoch=1, \n",
    "                    validation_data=val_batches, nb_val_samples=val_batches.nb_sample, callbacks=[csv_logger])"
   ]
  },
  {
   "cell_type": "code",
   "execution_count": 72,
   "metadata": {
    "collapsed": true
   },
   "outputs": [
    {
     "name": "stdout",
     "output_type": "stream",
     "text": [
      "Epoch 1/1\n",
      "40/40 [==============================] - 29s - loss: 1.7198 - acc: 0.5750 - val_loss: 0.9914 - val_acc: 0.6000\n"
     ]
    },
    {
     "data": {
      "text/plain": [
       "<keras.callbacks.History at 0x7ff93e8cc310>"
      ]
     },
     "execution_count": 72,
     "metadata": {},
     "output_type": "execute_result"
    }
   ],
   "source": [
    "modelbn.fit_generator(batches, samples_per_epoch=batches.nb_sample, nb_epoch=1, \n",
    "                    validation_data=val_batches, nb_val_samples=val_batches.nb_sample, callbacks=[csv_logger])"
   ]
  },
  {
   "cell_type": "code",
   "execution_count": 142,
   "metadata": {},
   "outputs": [
    {
     "data": {
      "image/png": "[encoded data removed]",
      "text/plain": [
       "<matplotlib.figure.Figure at 0x7ff93746b250>"
      ]
     },
     "metadata": {},
     "output_type": "display_data"
    }
   ],
   "source": [
    "plot_progress()"
   ]
  },
  {
   "cell_type": "markdown",
   "metadata": {
    "heading_collapsed": true
   },
   "source": [
    "# VGGbn met pseudo labeling - lesson 7"
   ]
  },
  {
   "cell_type": "markdown",
   "metadata": {
    "hidden": true
   },
   "source": [
    "uitleg:\n",
    "http://wiki.fast.ai/index.php/Lesson_6_Timeline\n",
    "vooorbeelden:\n",
    "statefarm.ipynb\n",
    "lesson7.ipynb"
   ]
  },
  {
   "cell_type": "markdown",
   "metadata": {},
   "source": [
    "# VGGbn with ensembling"
   ]
  },
  {
   "cell_type": "markdown",
   "metadata": {},
   "source": [
    "## Plan"
   ]
  },
  {
   "cell_type": "markdown",
   "metadata": {},
   "source": [
    "1. Split up models and pre-calculate dataset at several stages of the network:\n",
    "    * Pre-calculate after image pre-processing to save time\n",
    "    * Split at end of conv part and pre-calculate\n",
    "    * Split before last layers and pre-calculate\n",
    "2. Training for each of ensemble models\n",
    "    * Train last layer\n",
    "    * Copy weights of last layer to same layers on dense part\n",
    "    * Train dense part\n",
    "    * Copy weights of dense part to same layers on full part\n",
    "    * Do multiple times\n",
    "3. Predict and average\n",
    "    * Predict with all models and take the average"
   ]
  },
  {
   "cell_type": "markdown",
   "metadata": {},
   "source": [
    "## 1. Split up and pre-calculate"
   ]
  },
  {
   "cell_type": "code",
   "execution_count": 81,
   "metadata": {
    "collapsed": true
   },
   "outputs": [],
   "source": [
    "from keras.preprocessing.image import ImageDataGenerator\n",
    "from keras.models import Sequential\n",
    "from keras.layers.core import Lambda, Dense, Flatten, Dropout\n",
    "from keras.layers.convolutional import ZeroPadding2D, Convolution2D, MaxPooling2D\n",
    "from keras.optimizers import Adam\n",
    "from keras.utils.np_utils import to_categorical\n",
    "from keras.metrics import categorical_crossentropy, categorical_accuracy\n",
    "import bcolz"
   ]
  },
  {
   "cell_type": "code",
   "execution_count": 6,
   "metadata": {
    "collapsed": true
   },
   "outputs": [],
   "source": [
    "vggbn = createvggbn()\n",
    "vggbn.pop()\n",
    "vggbn.add(Dense(2, activation='softmax'))"
   ]
  },
  {
   "cell_type": "code",
   "execution_count": 7,
   "metadata": {
    "collapsed": true
   },
   "outputs": [],
   "source": [
    "def split_before_last_occu(model, layer_type):\n",
    "    layers = model.layers\n",
    "    layer_idx = [index for index,layer in enumerate(layers) if type(layer) is layer_type][-1]\n",
    "    return layers[:layer_idx], layers[layer_idx:]"
   ]
  },
  {
   "cell_type": "markdown",
   "metadata": {},
   "source": [
    "Split up all models and build new models of them"
   ]
  },
  {
   "cell_type": "code",
   "execution_count": 8,
   "metadata": {
    "collapsed": true
   },
   "outputs": [],
   "source": [
    "# Why do you split before maxpooling\n",
    "conv_layers, fc_layers = split_before_last_occu(vggbn, MaxPooling2D)\n",
    "residu_layers, last_layers = split_before_last_occu(vggbn, BatchNormalization)"
   ]
  },
  {
   "cell_type": "code",
   "execution_count": 10,
   "metadata": {},
   "outputs": [],
   "source": [
    "conv_model = Sequential(conv_layers)\n",
    "residu_model = Sequential(residu_layers)"
   ]
  },
  {
   "cell_type": "markdown",
   "metadata": {},
   "source": [
    "Generate batches\n"
   ]
  },
  {
   "cell_type": "code",
   "execution_count": 11,
   "metadata": {},
   "outputs": [
    {
     "name": "stdout",
     "output_type": "stream",
     "text": [
      "Found 40 images belonging to 2 classes.\n",
      "Found 20 images belonging to 2 classes.\n",
      "Found 10 images belonging to 1 classes.\n"
     ]
    }
   ],
   "source": [
    "shuffle = False\n",
    "data_gen = ImageDataGenerator()\n",
    "batches = data_gen.flow_from_directory(train_path, target_size=(224,224), batch_size=batch_size, shuffle=shuffle)\n",
    "val_batches = data_gen.flow_from_directory(valid_path, target_size=(224,224), batch_size=batch_size, shuffle=shuffle)\n",
    "test_batches = data_gen.flow_from_directory(test_path, target_size=(224,224), batch_size=batch_size, shuffle=shuffle)"
   ]
  },
  {
   "cell_type": "markdown",
   "metadata": {
    "heading_collapsed": true
   },
   "source": [
    "### Predict and save features of conv, but_last_layer and image pre-processing"
   ]
  },
  {
   "cell_type": "code",
   "execution_count": 63,
   "metadata": {
    "collapsed": true,
    "hidden": true
   },
   "outputs": [],
   "source": [
    "conv_trainfeat = conv_model.predict_generator(batches, batches.nb_sample)\n",
    "conv_valfeat = conv_model.predict_generator(val_batches, val_batches.nb_sample)\n",
    "\n",
    "butll_trainfeat = residu_model.predict_generator(batches, batches.nb_sample)\n",
    "butll_valfeat = residu_model.predict_generator(val_batches, val_batches.nb_sample)"
   ]
  },
  {
   "cell_type": "code",
   "execution_count": 64,
   "metadata": {
    "collapsed": true,
    "hidden": true
   },
   "outputs": [],
   "source": [
    "def save_array(fname, array):\n",
    "    c = bcolz.carray(array, rootdir=fname, mode='w')\n",
    "    c.flush()"
   ]
  },
  {
   "cell_type": "code",
   "execution_count": 65,
   "metadata": {
    "collapsed": true,
    "hidden": true
   },
   "outputs": [],
   "source": [
    "save_array(model_path + 'train_convlayer_features.bc', conv_trainfeat)\n",
    "save_array(model_path + 'valid_convlayer_features.bc', conv_valfeat)\n",
    "\n",
    "save_array(model_path + 'train_but_lastlayer_features.bc', butll_trainfeat)\n",
    "save_array(model_path + 'valid_but_lastlayer_features.bc', butll_valfeat)"
   ]
  },
  {
   "cell_type": "code",
   "execution_count": 66,
   "metadata": {
    "collapsed": true,
    "hidden": true
   },
   "outputs": [],
   "source": [
    "def prep_batches(path, batch_size=1, class_mode=None, target_size=(224,224)):\n",
    "    batches = data_gen.flow_from_directory(path, shuffle=False, batch_size=batch_size, class_mode=class_mode, \n",
    "                                        target_size=target_size)\n",
    "    return np.concatenate([batches.next() for i in range(batches.nb_sample)])"
   ]
  },
  {
   "cell_type": "code",
   "execution_count": 23,
   "metadata": {
    "collapsed": true,
    "hidden": true
   },
   "outputs": [
    {
     "ename": "NameError",
     "evalue": "name 'prep_batches' is not defined",
     "output_type": "error",
     "traceback": [
      "\u001b[0;31m---------------------------------------------------------------------------\u001b[0m",
      "\u001b[0;31mNameError\u001b[0m                                 Traceback (most recent call last)",
      "\u001b[0;32m<ipython-input-23-56c42c7e0b52>\u001b[0m in \u001b[0;36m<module>\u001b[0;34m()\u001b[0m\n\u001b[0;32m----> 1\u001b[0;31m \u001b[0mtrain_data\u001b[0m \u001b[0;34m=\u001b[0m \u001b[0mprep_batches\u001b[0m\u001b[0;34m(\u001b[0m\u001b[0mtrain_path\u001b[0m\u001b[0;34m)\u001b[0m\u001b[0;34m\u001b[0m\u001b[0m\n\u001b[0m\u001b[1;32m      2\u001b[0m \u001b[0mval_data\u001b[0m \u001b[0;34m=\u001b[0m \u001b[0mprep_batches\u001b[0m\u001b[0;34m(\u001b[0m\u001b[0mvalid_path\u001b[0m\u001b[0;34m)\u001b[0m\u001b[0;34m\u001b[0m\u001b[0m\n\u001b[1;32m      3\u001b[0m \u001b[0mtest_data\u001b[0m \u001b[0;34m=\u001b[0m \u001b[0mprep_batches\u001b[0m\u001b[0;34m(\u001b[0m\u001b[0mtest_path\u001b[0m\u001b[0;34m)\u001b[0m\u001b[0;34m\u001b[0m\u001b[0m\n\u001b[1;32m      4\u001b[0m \u001b[0;34m\u001b[0m\u001b[0m\n\u001b[1;32m      5\u001b[0m \u001b[0msave_array\u001b[0m\u001b[0;34m(\u001b[0m\u001b[0mmodel_path\u001b[0m \u001b[0;34m+\u001b[0m \u001b[0;34m'train_data.bc'\u001b[0m\u001b[0;34m,\u001b[0m \u001b[0mtrain_data\u001b[0m\u001b[0;34m)\u001b[0m\u001b[0;34m\u001b[0m\u001b[0m\n",
      "\u001b[0;31mNameError\u001b[0m: name 'prep_batches' is not defined"
     ]
    }
   ],
   "source": [
    "train_data = prep_batches(train_path)\n",
    "val_data = prep_batches(valid_path)\n",
    "test_data = prep_batches(test_path)\n",
    "\n",
    "save_array(model_path + 'train_data.bc', train_data)\n",
    "save_array(model_path + 'val_data.bc', val_data)\n",
    "save_array(model_path + 'test_data.bc', test_data)"
   ]
  },
  {
   "cell_type": "markdown",
   "metadata": {},
   "source": [
    "### Loading all data"
   ]
  },
  {
   "cell_type": "code",
   "execution_count": 12,
   "metadata": {
    "collapsed": true
   },
   "outputs": [],
   "source": [
    "conv_trainfeat = bcolz.open(model_path+'train_convlayer_features.bc')\n",
    "conv_valfeat = bcolz.open(model_path+'valid_convlayer_features.bc')\n",
    "\n",
    "butll_trainfeat = bcolz.open(model_path+'train_but_lastlayer_features.bc')\n",
    "butll_valfeat = bcolz.open(model_path+'valid_but_lastlayer_features.bc')\n",
    "\n",
    "train_data = bcolz.open(model_path+'train_data.bc')\n",
    "val_data = bcolz.open(model_path+'val_data.bc')\n",
    "test_data = bcolz.open(model_path+'test_data.bc')"
   ]
  },
  {
   "cell_type": "markdown",
   "metadata": {},
   "source": [
    "## Training all models"
   ]
  },
  {
   "cell_type": "code",
   "execution_count": 13,
   "metadata": {
    "collapsed": true
   },
   "outputs": [],
   "source": [
    "def get_llayers():\n",
    "    return [BatchNormalization(input_shape=(4096,)),\n",
    "    Dropout(0.5),\n",
    "    Dense(2, activation='softmax')]"
   ]
  },
  {
   "cell_type": "code",
   "execution_count": 14,
   "metadata": {
    "collapsed": true
   },
   "outputs": [],
   "source": [
    "def trainable(model):\n",
    "    test=model\n",
    "    temp = [layer.trainable for layer in test.layers]\n",
    "    return temp[:]"
   ]
  },
  {
   "cell_type": "code",
   "execution_count": 38,
   "metadata": {
    "collapsed": true
   },
   "outputs": [],
   "source": [
    "def train_llayers():\n",
    "    modell=Sequential(get_llayers())\n",
    "    modell.compile(optimizer=Adam(), loss='categorical_crossentropy', metrics=['accuracy'])\n",
    "    modell.optimizer.lr=1e-5\n",
    "    modell.fit(butll_trainfeat, to_categorical(batches.classes), \n",
    "               validation_data=(butll_valfeat, to_categorical(val_batches.classes)), nb_epoch=12)\n",
    "    modell.optimizer.lr=1e-7\n",
    "    modell.fit(butll_trainfeat, to_categorical(batches.classes), \n",
    "               validation_data=(butll_valfeat, to_categorical(val_batches.classes)), nb_epoch=10)\n",
    "    return modell"
   ]
  },
  {
   "cell_type": "code",
   "execution_count": 70,
   "metadata": {
    "collapsed": true
   },
   "outputs": [],
   "source": [
    "def get_denselayers(p, in_shape):\n",
    "    return [MaxPooling2D(input_shape=in_shape),\n",
    "        Flatten(),\n",
    "        Dense(4096, activation='relu'),\n",
    "        BatchNormalization(),\n",
    "        Dropout(p),\n",
    "        Dense(4096, activation='relu'),\n",
    "        BatchNormalization(),\n",
    "        Dropout(p),\n",
    "        Dense(2, activation='softmax')]"
   ]
  },
  {
   "cell_type": "code",
   "execution_count": 74,
   "metadata": {},
   "outputs": [],
   "source": [
    "def train_denselayers(model):\n",
    "    modell=model\n",
    "    \n",
    "    modeltemp = createvggbn()\n",
    "    modeltemp.pop()\n",
    "    modeltemp.add(Dense(2, activation='softmax'))\n",
    "    conv_layers, fc_layers = split_before_last_occu(modeltemp, MaxPooling2D)\n",
    "    conv_shape = Sequential(conv_layers).output_shape[1:]\n",
    "    modeld = Sequential(get_denselayers(0.5, conv_shape))\n",
    "#     print(conv_shape)\n",
    "#     print(len(fc_layers), len(modeld.layers))\n",
    "    for l1,l2 in zip(modell.layers, modeld.layers[-3:]):\n",
    "        l2.set_weights(l1.get_weights())\n",
    "    for l1,l2 in zip(fc_layers[:-3], modeld.layers[:-3]):\n",
    "        l2.set_weights(l1.get_weights())\n",
    "\n",
    "    modeld.compile(optimizer=Adam(), loss='categorical_crossentropy', metrics=['accuracy'])\n",
    "#     modeld.summary()\n",
    "    modeld.optimizer.lr=1e-5\n",
    "    modeld.fit(conv_trainfeat, to_categorical(batches.classes), \n",
    "               validation_data=(conv_valfeat, to_categorical(val_batches.classes)), nb_epoch=1)\n",
    "    modeld.optimizer.lr=1e-7\n",
    "    modeld.fit(conv_trainfeat, to_categorical(batches.classes), \n",
    "               validation_data=(conv_valfeat, to_categorical(val_batches.classes)), nb_epoch=10)\n",
    "    \n",
    "    trained_dl = createvggbn()\n",
    "    trained_dl.pop()\n",
    "    trained_dl.add(Dense(2, activation='softmax'))\n",
    "    \n",
    "    for l1,l2 in zip(modeld.layers, trained_dl.layers[-9:]):\n",
    "        l2.set_weights(l1.get_weights())\n",
    "        \n",
    "#     Possibly add some training with a generator and shuffled data\n",
    "\n",
    "    return trained_dl"
   ]
  },
  {
   "cell_type": "markdown",
   "metadata": {},
   "source": [
    "# Run and predict"
   ]
  },
  {
   "cell_type": "code",
   "execution_count": 76,
   "metadata": {},
   "outputs": [
    {
     "name": "stdout",
     "output_type": "stream",
     "text": [
      "Train on 40 samples, validate on 20 samples\n",
      "Epoch 1/12\n",
      "40/40 [==============================] - 0s - loss: 1.2001 - acc: 0.5000 - val_loss: 2.8733 - val_acc: 0.5000\n",
      "Epoch 2/12\n",
      "40/40 [==============================] - 0s - loss: 1.4141 - acc: 0.4250 - val_loss: 2.5119 - val_acc: 0.5000\n",
      "Epoch 3/12\n",
      "40/40 [==============================] - 0s - loss: 1.2279 - acc: 0.4000 - val_loss: 2.2452 - val_acc: 0.5000\n",
      "Epoch 4/12\n",
      "40/40 [==============================] - 0s - loss: 1.5617 - acc: 0.4750 - val_loss: 2.0718 - val_acc: 0.5000\n",
      "Epoch 5/12\n",
      "40/40 [==============================] - 0s - loss: 1.2902 - acc: 0.5250 - val_loss: 1.9028 - val_acc: 0.5000\n",
      "Epoch 6/12\n",
      "40/40 [==============================] - 0s - loss: 1.2587 - acc: 0.5000 - val_loss: 1.7652 - val_acc: 0.5000\n",
      "Epoch 7/12\n",
      "40/40 [==============================] - 0s - loss: 1.3087 - acc: 0.4250 - val_loss: 1.6569 - val_acc: 0.5000\n",
      "Epoch 8/12\n",
      "40/40 [==============================] - 0s - loss: 1.5213 - acc: 0.3000 - val_loss: 1.5442 - val_acc: 0.5000\n",
      "Epoch 9/12\n",
      "40/40 [==============================] - 0s - loss: 1.1509 - acc: 0.5750 - val_loss: 1.4684 - val_acc: 0.5000\n",
      "Epoch 10/12\n",
      "40/40 [==============================] - 0s - loss: 1.1242 - acc: 0.4750 - val_loss: 1.3871 - val_acc: 0.5000\n",
      "Epoch 11/12\n",
      "40/40 [==============================] - 0s - loss: 1.4591 - acc: 0.4500 - val_loss: 1.3168 - val_acc: 0.5000\n",
      "Epoch 12/12\n",
      "40/40 [==============================] - 0s - loss: 1.0997 - acc: 0.5000 - val_loss: 1.2553 - val_acc: 0.5000\n",
      "Train on 40 samples, validate on 20 samples\n",
      "Epoch 1/10\n",
      "40/40 [==============================] - 0s - loss: 1.3250 - acc: 0.4250 - val_loss: 1.2062 - val_acc: 0.5000\n",
      "Epoch 2/10\n",
      "40/40 [==============================] - 0s - loss: 1.2874 - acc: 0.4500 - val_loss: 1.1563 - val_acc: 0.5000\n",
      "Epoch 3/10\n",
      "40/40 [==============================] - 0s - loss: 1.3603 - acc: 0.5250 - val_loss: 1.1143 - val_acc: 0.5000\n",
      "Epoch 4/10\n",
      "40/40 [==============================] - 0s - loss: 1.3111 - acc: 0.4500 - val_loss: 1.0770 - val_acc: 0.5500\n",
      "Epoch 5/10\n",
      "40/40 [==============================] - 0s - loss: 1.1308 - acc: 0.4750 - val_loss: 1.0395 - val_acc: 0.5500\n",
      "Epoch 6/10\n",
      "40/40 [==============================] - 0s - loss: 0.7650 - acc: 0.6500 - val_loss: 1.0057 - val_acc: 0.5500\n",
      "Epoch 7/10\n",
      "40/40 [==============================] - 0s - loss: 1.0101 - acc: 0.5500 - val_loss: 0.9643 - val_acc: 0.5500\n",
      "Epoch 8/10\n",
      "40/40 [==============================] - 0s - loss: 1.2453 - acc: 0.5250 - val_loss: 0.9386 - val_acc: 0.5500\n",
      "Epoch 9/10\n",
      "40/40 [==============================] - 0s - loss: 1.1044 - acc: 0.4500 - val_loss: 0.9090 - val_acc: 0.5500\n",
      "Epoch 10/10\n",
      "40/40 [==============================] - 0s - loss: 0.8469 - acc: 0.6000 - val_loss: 0.8780 - val_acc: 0.5500\n",
      "____________________________________________________________________________________________________\n",
      "Layer (type)                     Output Shape          Param #     Connected to                     \n",
      "====================================================================================================\n",
      "maxpooling2d_192 (MaxPooling2D)  (None, 512, 7, 7)     0           maxpooling2d_input_27[0][0]      \n",
      "____________________________________________________________________________________________________\n",
      "flatten_60 (Flatten)             (None, 25088)         0           maxpooling2d_192[0][0]           \n",
      "____________________________________________________________________________________________________\n",
      "dense_238 (Dense)                (None, 4096)          102764544   flatten_60[0][0]                 \n",
      "____________________________________________________________________________________________________\n",
      "batchnormalization_147 (BatchNor (None, 4096)          16384       dense_238[0][0]                  \n",
      "____________________________________________________________________________________________________\n",
      "dropout_147 (Dropout)            (None, 4096)          0           batchnormalization_147[0][0]     \n",
      "____________________________________________________________________________________________________\n",
      "dense_239 (Dense)                (None, 4096)          16781312    dropout_147[0][0]                \n",
      "____________________________________________________________________________________________________\n",
      "batchnormalization_148 (BatchNor (None, 4096)          16384       dense_239[0][0]                  \n",
      "____________________________________________________________________________________________________\n",
      "dropout_148 (Dropout)            (None, 4096)          0           batchnormalization_148[0][0]     \n",
      "____________________________________________________________________________________________________\n",
      "dense_240 (Dense)                (None, 2)             8194        dropout_148[0][0]                \n",
      "====================================================================================================\n",
      "Total params: 119,586,818\n",
      "Trainable params: 119,570,434\n",
      "Non-trainable params: 16,384\n",
      "____________________________________________________________________________________________________\n",
      "Train on 40 samples, validate on 20 samples\n",
      "Epoch 1/1\n",
      "40/40 [==============================] - 2s - loss: 1.2398 - acc: 0.4500 - val_loss: 0.2856 - val_acc: 0.8500\n",
      "Train on 40 samples, validate on 20 samples\n",
      "Epoch 1/10\n",
      "40/40 [==============================] - 2s - loss: 0.9304 - acc: 0.6500 - val_loss: 0.1059 - val_acc: 1.0000\n",
      "Epoch 2/10\n",
      "40/40 [==============================] - 2s - loss: 0.3910 - acc: 0.9000 - val_loss: 0.0454 - val_acc: 1.0000\n",
      "Epoch 3/10\n",
      "40/40 [==============================] - 2s - loss: 0.3268 - acc: 0.8750 - val_loss: 0.0227 - val_acc: 1.0000\n",
      "Epoch 4/10\n",
      "40/40 [==============================] - 2s - loss: 0.2773 - acc: 0.8500 - val_loss: 0.0130 - val_acc: 1.0000\n",
      "Epoch 5/10\n",
      "40/40 [==============================] - 2s - loss: 0.1528 - acc: 0.9250 - val_loss: 0.0079 - val_acc: 1.0000\n",
      "Epoch 6/10\n",
      "40/40 [==============================] - 2s - loss: 0.0148 - acc: 1.0000 - val_loss: 0.0053 - val_acc: 1.0000\n",
      "Epoch 7/10\n",
      "40/40 [==============================] - 2s - loss: 0.1234 - acc: 0.9250 - val_loss: 0.0036 - val_acc: 1.0000\n",
      "Epoch 8/10\n",
      "40/40 [==============================] - 2s - loss: 0.0691 - acc: 0.9750 - val_loss: 0.0027 - val_acc: 1.0000\n",
      "Epoch 9/10\n",
      "40/40 [==============================] - 2s - loss: 0.0356 - acc: 0.9750 - val_loss: 0.0022 - val_acc: 1.0000\n",
      "Epoch 10/10\n",
      "40/40 [==============================] - 2s - loss: 0.0224 - acc: 1.0000 - val_loss: 0.0019 - val_acc: 1.0000\n",
      "Train on 40 samples, validate on 20 samples\n",
      "Epoch 1/12\n",
      "40/40 [==============================] - 0s - loss: 2.2506 - acc: 0.3000 - val_loss: 6.5975 - val_acc: 0.1500\n",
      "Epoch 2/12\n",
      "40/40 [==============================] - 0s - loss: 1.7616 - acc: 0.4750 - val_loss: 5.8189 - val_acc: 0.1500\n",
      "Epoch 3/12\n",
      "40/40 [==============================] - 0s - loss: 2.1141 - acc: 0.2000 - val_loss: 5.3587 - val_acc: 0.1500\n",
      "Epoch 4/12\n",
      "40/40 [==============================] - 0s - loss: 2.0806 - acc: 0.2750 - val_loss: 4.8330 - val_acc: 0.1500\n",
      "Epoch 5/12\n",
      "40/40 [==============================] - 0s - loss: 1.7031 - acc: 0.3000 - val_loss: 4.4078 - val_acc: 0.1500\n",
      "Epoch 6/12\n",
      "40/40 [==============================] - 0s - loss: 2.0234 - acc: 0.2750 - val_loss: 4.1355 - val_acc: 0.1500\n",
      "Epoch 7/12\n",
      "40/40 [==============================] - 0s - loss: 1.8081 - acc: 0.3750 - val_loss: 3.8577 - val_acc: 0.1500\n",
      "Epoch 8/12\n",
      "40/40 [==============================] - 0s - loss: 2.1806 - acc: 0.2500 - val_loss: 3.6608 - val_acc: 0.1500\n",
      "Epoch 9/12\n",
      "40/40 [==============================] - 0s - loss: 1.5808 - acc: 0.3750 - val_loss: 3.4767 - val_acc: 0.1500\n",
      "Epoch 10/12\n",
      "40/40 [==============================] - 0s - loss: 1.6511 - acc: 0.4000 - val_loss: 3.3219 - val_acc: 0.1500\n",
      "Epoch 11/12\n",
      "40/40 [==============================] - 0s - loss: 2.0628 - acc: 0.3250 - val_loss: 3.1896 - val_acc: 0.2000\n",
      "Epoch 12/12\n",
      "40/40 [==============================] - 0s - loss: 1.6936 - acc: 0.3750 - val_loss: 3.0698 - val_acc: 0.2000\n",
      "Train on 40 samples, validate on 20 samples\n",
      "Epoch 1/10\n",
      "40/40 [==============================] - 0s - loss: 1.9539 - acc: 0.2250 - val_loss: 2.9345 - val_acc: 0.2000\n",
      "Epoch 2/10\n"
     ]
    },
    {
     "name": "stdout",
     "output_type": "stream",
     "text": [
      "40/40 [==============================] - 0s - loss: 2.1466 - acc: 0.3250 - val_loss: 2.8215 - val_acc: 0.2000\n",
      "Epoch 3/10\n",
      "40/40 [==============================] - 0s - loss: 1.6600 - acc: 0.3000 - val_loss: 2.7269 - val_acc: 0.2000\n",
      "Epoch 4/10\n",
      "40/40 [==============================] - 0s - loss: 1.9618 - acc: 0.2750 - val_loss: 2.6403 - val_acc: 0.2000\n",
      "Epoch 5/10\n",
      "40/40 [==============================] - 0s - loss: 1.8918 - acc: 0.2250 - val_loss: 2.5449 - val_acc: 0.2000\n",
      "Epoch 6/10\n",
      "40/40 [==============================] - 0s - loss: 1.3289 - acc: 0.5000 - val_loss: 2.4667 - val_acc: 0.2000\n",
      "Epoch 7/10\n",
      "40/40 [==============================] - 0s - loss: 1.9093 - acc: 0.4000 - val_loss: 2.3902 - val_acc: 0.2000\n",
      "Epoch 8/10\n",
      "40/40 [==============================] - 0s - loss: 1.7549 - acc: 0.3750 - val_loss: 2.3169 - val_acc: 0.2000\n",
      "Epoch 9/10\n",
      "40/40 [==============================] - 0s - loss: 1.6126 - acc: 0.4000 - val_loss: 2.2539 - val_acc: 0.2000\n",
      "Epoch 10/10\n",
      "40/40 [==============================] - 0s - loss: 1.7889 - acc: 0.3250 - val_loss: 2.1937 - val_acc: 0.2000\n",
      "____________________________________________________________________________________________________\n",
      "Layer (type)                     Output Shape          Param #     Connected to                     \n",
      "====================================================================================================\n",
      "maxpooling2d_203 (MaxPooling2D)  (None, 512, 7, 7)     0           maxpooling2d_input_28[0][0]      \n",
      "____________________________________________________________________________________________________\n",
      "flatten_63 (Flatten)             (None, 25088)         0           maxpooling2d_203[0][0]           \n",
      "____________________________________________________________________________________________________\n",
      "dense_250 (Dense)                (None, 4096)          102764544   flatten_63[0][0]                 \n",
      "____________________________________________________________________________________________________\n",
      "batchnormalization_154 (BatchNor (None, 4096)          16384       dense_250[0][0]                  \n",
      "____________________________________________________________________________________________________\n",
      "dropout_154 (Dropout)            (None, 4096)          0           batchnormalization_154[0][0]     \n",
      "____________________________________________________________________________________________________\n",
      "dense_251 (Dense)                (None, 4096)          16781312    dropout_154[0][0]                \n",
      "____________________________________________________________________________________________________\n",
      "batchnormalization_155 (BatchNor (None, 4096)          16384       dense_251[0][0]                  \n",
      "____________________________________________________________________________________________________\n",
      "dropout_155 (Dropout)            (None, 4096)          0           batchnormalization_155[0][0]     \n",
      "____________________________________________________________________________________________________\n",
      "dense_252 (Dense)                (None, 2)             8194        dropout_155[0][0]                \n",
      "====================================================================================================\n",
      "Total params: 119,586,818\n",
      "Trainable params: 119,570,434\n",
      "Non-trainable params: 16,384\n",
      "____________________________________________________________________________________________________\n",
      "Train on 40 samples, validate on 20 samples\n",
      "Epoch 1/1\n",
      "40/40 [==============================] - 2s - loss: 1.7635 - acc: 0.3750 - val_loss: 0.8224 - val_acc: 0.6000\n",
      "Train on 40 samples, validate on 20 samples\n",
      "Epoch 1/10\n",
      "40/40 [==============================] - 1s - loss: 0.7317 - acc: 0.7000 - val_loss: 0.2823 - val_acc: 0.8500\n",
      "Epoch 2/10\n",
      "40/40 [==============================] - 2s - loss: 0.6324 - acc: 0.6500 - val_loss: 0.1100 - val_acc: 1.0000\n",
      "Epoch 3/10\n",
      "40/40 [==============================] - 1s - loss: 0.2728 - acc: 0.9000 - val_loss: 0.0620 - val_acc: 1.0000\n",
      "Epoch 4/10\n",
      "40/40 [==============================] - 1s - loss: 0.3495 - acc: 0.8750 - val_loss: 0.0480 - val_acc: 1.0000\n",
      "Epoch 5/10\n",
      "40/40 [==============================] - 2s - loss: 0.1139 - acc: 0.9500 - val_loss: 0.0386 - val_acc: 1.0000\n",
      "Epoch 6/10\n",
      "40/40 [==============================] - 2s - loss: 0.1546 - acc: 0.9750 - val_loss: 0.0321 - val_acc: 1.0000\n",
      "Epoch 7/10\n",
      "40/40 [==============================] - 2s - loss: 0.0728 - acc: 0.9750 - val_loss: 0.0270 - val_acc: 1.0000\n",
      "Epoch 8/10\n",
      "40/40 [==============================] - 2s - loss: 0.2079 - acc: 0.9000 - val_loss: 0.0211 - val_acc: 1.0000\n",
      "Epoch 9/10\n",
      "40/40 [==============================] - 2s - loss: 0.0528 - acc: 1.0000 - val_loss: 0.0182 - val_acc: 1.0000\n",
      "Epoch 10/10\n",
      "40/40 [==============================] - 2s - loss: 0.0806 - acc: 0.9750 - val_loss: 0.0161 - val_acc: 1.0000\n",
      "Train on 40 samples, validate on 20 samples\n",
      "Epoch 1/12\n",
      "40/40 [==============================] - 0s - loss: 1.7938 - acc: 0.4500 - val_loss: 6.8208 - val_acc: 0.4500\n",
      "Epoch 2/12\n",
      "40/40 [==============================] - 0s - loss: 1.8001 - acc: 0.3750 - val_loss: 5.8225 - val_acc: 0.4500\n",
      "Epoch 3/12\n",
      "40/40 [==============================] - 0s - loss: 1.5364 - acc: 0.4000 - val_loss: 5.0622 - val_acc: 0.4500\n",
      "Epoch 4/12\n",
      "40/40 [==============================] - 0s - loss: 1.5531 - acc: 0.4250 - val_loss: 4.4554 - val_acc: 0.4500\n",
      "Epoch 5/12\n",
      "40/40 [==============================] - 0s - loss: 1.1921 - acc: 0.4000 - val_loss: 3.9264 - val_acc: 0.4500\n",
      "Epoch 6/12\n",
      "40/40 [==============================] - 0s - loss: 1.2137 - acc: 0.4750 - val_loss: 3.6260 - val_acc: 0.4500\n",
      "Epoch 7/12\n",
      "40/40 [==============================] - 0s - loss: 1.5864 - acc: 0.3250 - val_loss: 3.3231 - val_acc: 0.4500\n",
      "Epoch 8/12\n",
      "40/40 [==============================] - 0s - loss: 1.3969 - acc: 0.4750 - val_loss: 3.0787 - val_acc: 0.4500\n",
      "Epoch 9/12\n",
      "40/40 [==============================] - 0s - loss: 1.9710 - acc: 0.3250 - val_loss: 2.8633 - val_acc: 0.4000\n",
      "Epoch 10/12\n",
      "40/40 [==============================] - 0s - loss: 1.4321 - acc: 0.5000 - val_loss: 2.6706 - val_acc: 0.4000\n",
      "Epoch 11/12\n",
      "40/40 [==============================] - 0s - loss: 1.9086 - acc: 0.2750 - val_loss: 2.4840 - val_acc: 0.4000\n",
      "Epoch 12/12\n",
      "40/40 [==============================] - 0s - loss: 1.0435 - acc: 0.4250 - val_loss: 2.3539 - val_acc: 0.4000\n",
      "Train on 40 samples, validate on 20 samples\n",
      "Epoch 1/10\n",
      "40/40 [==============================] - 0s - loss: 1.5068 - acc: 0.4000 - val_loss: 2.2257 - val_acc: 0.4000\n",
      "Epoch 2/10\n",
      "40/40 [==============================] - 0s - loss: 1.7176 - acc: 0.3500 - val_loss: 2.1225 - val_acc: 0.4000\n",
      "Epoch 3/10\n",
      "40/40 [==============================] - 0s - loss: 1.2404 - acc: 0.5000 - val_loss: 2.0141 - val_acc: 0.4000\n",
      "Epoch 4/10\n",
      "40/40 [==============================] - 0s - loss: 1.7261 - acc: 0.3000 - val_loss: 1.9228 - val_acc: 0.4000\n",
      "Epoch 5/10\n",
      "40/40 [==============================] - 0s - loss: 1.2176 - acc: 0.4750 - val_loss: 1.8322 - val_acc: 0.4000\n",
      "Epoch 6/10\n",
      "40/40 [==============================] - 0s - loss: 1.7339 - acc: 0.3750 - val_loss: 1.7653 - val_acc: 0.4000\n",
      "Epoch 7/10\n",
      "40/40 [==============================] - 0s - loss: 1.5653 - acc: 0.2750 - val_loss: 1.6945 - val_acc: 0.4000\n",
      "Epoch 8/10\n",
      "40/40 [==============================] - 0s - loss: 0.9925 - acc: 0.5500 - val_loss: 1.6284 - val_acc: 0.4500\n",
      "Epoch 9/10\n",
      "40/40 [==============================] - 0s - loss: 1.0802 - acc: 0.5250 - val_loss: 1.5679 - val_acc: 0.4500\n",
      "Epoch 10/10\n",
      "40/40 [==============================] - 0s - loss: 1.6757 - acc: 0.3000 - val_loss: 1.5086 - val_acc: 0.4500\n",
      "____________________________________________________________________________________________________\n",
      "Layer (type)                     Output Shape          Param #     Connected to                     \n",
      "====================================================================================================\n",
      "maxpooling2d_214 (MaxPooling2D)  (None, 512, 7, 7)     0           maxpooling2d_input_29[0][0]      \n",
      "____________________________________________________________________________________________________\n",
      "flatten_66 (Flatten)             (None, 25088)         0           maxpooling2d_214[0][0]           \n",
      "____________________________________________________________________________________________________\n",
      "dense_262 (Dense)                (None, 4096)          102764544   flatten_66[0][0]                 \n",
      "____________________________________________________________________________________________________\n",
      "batchnormalization_161 (BatchNor (None, 4096)          16384       dense_262[0][0]                  \n",
      "____________________________________________________________________________________________________\n",
      "dropout_161 (Dropout)            (None, 4096)          0           batchnormalization_161[0][0]     \n",
      "____________________________________________________________________________________________________\n",
      "dense_263 (Dense)                (None, 4096)          16781312    dropout_161[0][0]                \n",
      "____________________________________________________________________________________________________\n",
      "batchnormalization_162 (BatchNor (None, 4096)          16384       dense_263[0][0]                  \n",
      "____________________________________________________________________________________________________\n",
      "dropout_162 (Dropout)            (None, 4096)          0           batchnormalization_162[0][0]     \n",
      "____________________________________________________________________________________________________\n",
      "dense_264 (Dense)                (None, 2)             8194        dropout_162[0][0]                \n",
      "====================================================================================================\n"
     ]
    },
    {
     "name": "stdout",
     "output_type": "stream",
     "text": [
      "Total params: 119,586,818\n",
      "Trainable params: 119,570,434\n",
      "Non-trainable params: 16,384\n",
      "____________________________________________________________________________________________________\n",
      "Train on 40 samples, validate on 20 samples\n",
      "Epoch 1/1\n",
      "40/40 [==============================] - 2s - loss: 1.3819 - acc: 0.5750 - val_loss: 0.7649 - val_acc: 0.8000\n",
      "Train on 40 samples, validate on 20 samples\n",
      "Epoch 1/10\n",
      "40/40 [==============================] - 2s - loss: 0.8362 - acc: 0.6750 - val_loss: 0.5123 - val_acc: 0.8500\n",
      "Epoch 2/10\n",
      "40/40 [==============================] - 2s - loss: 0.5548 - acc: 0.8000 - val_loss: 0.4224 - val_acc: 0.9000\n",
      "Epoch 3/10\n",
      "40/40 [==============================] - 2s - loss: 0.2986 - acc: 0.8500 - val_loss: 0.3576 - val_acc: 0.9000\n",
      "Epoch 4/10\n",
      "40/40 [==============================] - 2s - loss: 0.3203 - acc: 0.8500 - val_loss: 0.3018 - val_acc: 0.9000\n",
      "Epoch 5/10\n",
      "40/40 [==============================] - 2s - loss: 0.0787 - acc: 0.9750 - val_loss: 0.2457 - val_acc: 0.9000\n",
      "Epoch 6/10\n",
      "40/40 [==============================] - 2s - loss: 0.0995 - acc: 0.9750 - val_loss: 0.2020 - val_acc: 0.9000\n",
      "Epoch 7/10\n",
      "40/40 [==============================] - 2s - loss: 0.1784 - acc: 0.9000 - val_loss: 0.1642 - val_acc: 0.9000\n",
      "Epoch 8/10\n",
      "40/40 [==============================] - 2s - loss: 0.0580 - acc: 0.9750 - val_loss: 0.1378 - val_acc: 0.9000\n",
      "Epoch 9/10\n",
      "40/40 [==============================] - 2s - loss: 0.0654 - acc: 0.9500 - val_loss: 0.1180 - val_acc: 0.9000\n",
      "Epoch 10/10\n",
      "40/40 [==============================] - 2s - loss: 0.2848 - acc: 0.9000 - val_loss: 0.0869 - val_acc: 0.9500\n",
      "Train on 40 samples, validate on 20 samples\n",
      "Epoch 1/12\n",
      "40/40 [==============================] - 0s - loss: 1.3147 - acc: 0.4500 - val_loss: 2.3785 - val_acc: 0.4500\n",
      "Epoch 2/12\n",
      "40/40 [==============================] - 0s - loss: 0.9501 - acc: 0.6500 - val_loss: 2.0909 - val_acc: 0.4500\n",
      "Epoch 3/12\n",
      "40/40 [==============================] - 0s - loss: 0.7134 - acc: 0.6750 - val_loss: 1.8795 - val_acc: 0.4500\n",
      "Epoch 4/12\n",
      "40/40 [==============================] - 0s - loss: 1.0620 - acc: 0.5500 - val_loss: 1.7125 - val_acc: 0.4500\n",
      "Epoch 5/12\n",
      "40/40 [==============================] - 0s - loss: 1.0650 - acc: 0.5250 - val_loss: 1.5753 - val_acc: 0.4500\n",
      "Epoch 6/12\n",
      "40/40 [==============================] - 0s - loss: 1.2624 - acc: 0.5750 - val_loss: 1.4725 - val_acc: 0.4500\n",
      "Epoch 7/12\n",
      "40/40 [==============================] - 0s - loss: 0.8747 - acc: 0.6250 - val_loss: 1.3375 - val_acc: 0.4000\n",
      "Epoch 8/12\n",
      "40/40 [==============================] - 0s - loss: 1.1904 - acc: 0.6000 - val_loss: 1.2577 - val_acc: 0.4000\n",
      "Epoch 9/12\n",
      "40/40 [==============================] - 0s - loss: 0.6649 - acc: 0.7500 - val_loss: 1.1909 - val_acc: 0.4000\n",
      "Epoch 10/12\n",
      "40/40 [==============================] - 0s - loss: 0.8926 - acc: 0.6000 - val_loss: 1.1443 - val_acc: 0.4500\n",
      "Epoch 11/12\n",
      "40/40 [==============================] - 0s - loss: 0.8378 - acc: 0.6250 - val_loss: 1.0944 - val_acc: 0.4500\n",
      "Epoch 12/12\n",
      "40/40 [==============================] - 0s - loss: 0.9461 - acc: 0.5500 - val_loss: 1.0477 - val_acc: 0.4500\n",
      "Train on 40 samples, validate on 20 samples\n",
      "Epoch 1/10\n",
      "40/40 [==============================] - 0s - loss: 0.9182 - acc: 0.6000 - val_loss: 1.0081 - val_acc: 0.4500\n",
      "Epoch 2/10\n",
      "40/40 [==============================] - 0s - loss: 1.0837 - acc: 0.6250 - val_loss: 0.9689 - val_acc: 0.4500\n",
      "Epoch 3/10\n",
      "40/40 [==============================] - 0s - loss: 0.9268 - acc: 0.6500 - val_loss: 0.9385 - val_acc: 0.4500\n",
      "Epoch 4/10\n",
      "40/40 [==============================] - 0s - loss: 0.7391 - acc: 0.6750 - val_loss: 0.9085 - val_acc: 0.4500\n",
      "Epoch 5/10\n",
      "40/40 [==============================] - 0s - loss: 0.8905 - acc: 0.6500 - val_loss: 0.8775 - val_acc: 0.4500\n",
      "Epoch 6/10\n",
      "40/40 [==============================] - 0s - loss: 1.1983 - acc: 0.6000 - val_loss: 0.8407 - val_acc: 0.4500\n",
      "Epoch 7/10\n",
      "40/40 [==============================] - 0s - loss: 0.6345 - acc: 0.6250 - val_loss: 0.8149 - val_acc: 0.4500\n",
      "Epoch 8/10\n",
      "40/40 [==============================] - 0s - loss: 1.0249 - acc: 0.6000 - val_loss: 0.7919 - val_acc: 0.4500\n",
      "Epoch 9/10\n",
      "40/40 [==============================] - 0s - loss: 0.9898 - acc: 0.6250 - val_loss: 0.7629 - val_acc: 0.5500\n",
      "Epoch 10/10\n",
      "40/40 [==============================] - 0s - loss: 1.0538 - acc: 0.5750 - val_loss: 0.7399 - val_acc: 0.5500\n",
      "____________________________________________________________________________________________________\n",
      "Layer (type)                     Output Shape          Param #     Connected to                     \n",
      "====================================================================================================\n",
      "maxpooling2d_225 (MaxPooling2D)  (None, 512, 7, 7)     0           maxpooling2d_input_30[0][0]      \n",
      "____________________________________________________________________________________________________\n",
      "flatten_69 (Flatten)             (None, 25088)         0           maxpooling2d_225[0][0]           \n",
      "____________________________________________________________________________________________________\n",
      "dense_274 (Dense)                (None, 4096)          102764544   flatten_69[0][0]                 \n",
      "____________________________________________________________________________________________________\n",
      "batchnormalization_168 (BatchNor (None, 4096)          16384       dense_274[0][0]                  \n",
      "____________________________________________________________________________________________________\n",
      "dropout_168 (Dropout)            (None, 4096)          0           batchnormalization_168[0][0]     \n",
      "____________________________________________________________________________________________________\n",
      "dense_275 (Dense)                (None, 4096)          16781312    dropout_168[0][0]                \n",
      "____________________________________________________________________________________________________\n",
      "batchnormalization_169 (BatchNor (None, 4096)          16384       dense_275[0][0]                  \n",
      "____________________________________________________________________________________________________\n",
      "dropout_169 (Dropout)            (None, 4096)          0           batchnormalization_169[0][0]     \n",
      "____________________________________________________________________________________________________\n",
      "dense_276 (Dense)                (None, 2)             8194        dropout_169[0][0]                \n",
      "====================================================================================================\n",
      "Total params: 119,586,818\n",
      "Trainable params: 119,570,434\n",
      "Non-trainable params: 16,384\n",
      "____________________________________________________________________________________________________\n",
      "Train on 40 samples, validate on 20 samples\n",
      "Epoch 1/1\n",
      "40/40 [==============================] - 2s - loss: 0.8640 - acc: 0.6500 - val_loss: 0.2969 - val_acc: 0.8500\n",
      "Train on 40 samples, validate on 20 samples\n",
      "Epoch 1/10\n",
      "40/40 [==============================] - 2s - loss: 0.4936 - acc: 0.7000 - val_loss: 0.1281 - val_acc: 0.9500\n",
      "Epoch 2/10\n",
      "40/40 [==============================] - 2s - loss: 0.2819 - acc: 0.9000 - val_loss: 0.0666 - val_acc: 1.0000\n",
      "Epoch 3/10\n",
      "40/40 [==============================] - 2s - loss: 0.1842 - acc: 0.9500 - val_loss: 0.0420 - val_acc: 1.0000\n",
      "Epoch 4/10\n",
      "40/40 [==============================] - 2s - loss: 0.2075 - acc: 0.9500 - val_loss: 0.0286 - val_acc: 1.0000\n",
      "Epoch 5/10\n",
      "40/40 [==============================] - 2s - loss: 0.2023 - acc: 0.9000 - val_loss: 0.0218 - val_acc: 1.0000\n",
      "Epoch 6/10\n",
      "40/40 [==============================] - 2s - loss: 0.0838 - acc: 0.9500 - val_loss: 0.0178 - val_acc: 1.0000\n",
      "Epoch 7/10\n",
      "40/40 [==============================] - 2s - loss: 0.0696 - acc: 0.9750 - val_loss: 0.0153 - val_acc: 1.0000\n",
      "Epoch 8/10\n",
      "40/40 [==============================] - 2s - loss: 0.0840 - acc: 0.9500 - val_loss: 0.0146 - val_acc: 1.0000\n",
      "Epoch 9/10\n",
      "40/40 [==============================] - 2s - loss: 0.0640 - acc: 0.9750 - val_loss: 0.0115 - val_acc: 1.0000\n",
      "Epoch 10/10\n",
      "40/40 [==============================] - 2s - loss: 0.2065 - acc: 0.9500 - val_loss: 0.0097 - val_acc: 1.0000\n",
      "Train on 40 samples, validate on 20 samples\n",
      "Epoch 1/12\n"
     ]
    },
    {
     "name": "stdout",
     "output_type": "stream",
     "text": [
      "40/40 [==============================] - 0s - loss: 2.0986 - acc: 0.2250 - val_loss: 5.0371 - val_acc: 0.5500\n",
      "Epoch 2/12\n",
      "40/40 [==============================] - 0s - loss: 1.7462 - acc: 0.3500 - val_loss: 4.1322 - val_acc: 0.5500\n",
      "Epoch 3/12\n",
      "40/40 [==============================] - 0s - loss: 1.5218 - acc: 0.4500 - val_loss: 3.4341 - val_acc: 0.4500\n",
      "Epoch 4/12\n",
      "40/40 [==============================] - 0s - loss: 1.6274 - acc: 0.4750 - val_loss: 3.0768 - val_acc: 0.4500\n",
      "Epoch 5/12\n",
      "40/40 [==============================] - 0s - loss: 1.7194 - acc: 0.4000 - val_loss: 2.7263 - val_acc: 0.4500\n",
      "Epoch 6/12\n",
      "40/40 [==============================] - 0s - loss: 2.0163 - acc: 0.2500 - val_loss: 2.4732 - val_acc: 0.4500\n",
      "Epoch 7/12\n",
      "40/40 [==============================] - 0s - loss: 1.4873 - acc: 0.3500 - val_loss: 2.2593 - val_acc: 0.4500\n",
      "Epoch 8/12\n",
      "40/40 [==============================] - 0s - loss: 1.7622 - acc: 0.3750 - val_loss: 2.1044 - val_acc: 0.4500\n",
      "Epoch 9/12\n",
      "40/40 [==============================] - 0s - loss: 1.3953 - acc: 0.4000 - val_loss: 1.9729 - val_acc: 0.4500\n",
      "Epoch 10/12\n",
      "40/40 [==============================] - 0s - loss: 1.6748 - acc: 0.4000 - val_loss: 1.8712 - val_acc: 0.4500\n",
      "Epoch 11/12\n",
      "40/40 [==============================] - 0s - loss: 1.4251 - acc: 0.4500 - val_loss: 1.7868 - val_acc: 0.4500\n",
      "Epoch 12/12\n",
      "40/40 [==============================] - 0s - loss: 1.1763 - acc: 0.4750 - val_loss: 1.7092 - val_acc: 0.4500\n",
      "Train on 40 samples, validate on 20 samples\n",
      "Epoch 1/10\n",
      "40/40 [==============================] - 0s - loss: 1.4648 - acc: 0.4750 - val_loss: 1.6341 - val_acc: 0.4500\n",
      "Epoch 2/10\n",
      "40/40 [==============================] - 0s - loss: 1.4469 - acc: 0.4500 - val_loss: 1.5584 - val_acc: 0.4500\n",
      "Epoch 3/10\n",
      "40/40 [==============================] - 0s - loss: 1.3925 - acc: 0.5250 - val_loss: 1.4921 - val_acc: 0.4500\n",
      "Epoch 4/10\n",
      "40/40 [==============================] - 0s - loss: 1.3568 - acc: 0.3250 - val_loss: 1.4245 - val_acc: 0.4500\n",
      "Epoch 5/10\n",
      "40/40 [==============================] - 0s - loss: 1.3505 - acc: 0.4750 - val_loss: 1.3737 - val_acc: 0.5000\n",
      "Epoch 6/10\n",
      "40/40 [==============================] - 0s - loss: 1.3877 - acc: 0.4000 - val_loss: 1.3240 - val_acc: 0.5000\n",
      "Epoch 7/10\n",
      "40/40 [==============================] - 0s - loss: 1.2635 - acc: 0.4750 - val_loss: 1.2795 - val_acc: 0.5000\n",
      "Epoch 8/10\n",
      "40/40 [==============================] - 0s - loss: 1.6356 - acc: 0.4250 - val_loss: 1.2352 - val_acc: 0.5000\n",
      "Epoch 9/10\n",
      "40/40 [==============================] - 0s - loss: 1.1274 - acc: 0.5000 - val_loss: 1.1883 - val_acc: 0.5000\n",
      "Epoch 10/10\n",
      "40/40 [==============================] - 0s - loss: 1.3185 - acc: 0.4250 - val_loss: 1.1529 - val_acc: 0.5000\n",
      "____________________________________________________________________________________________________\n",
      "Layer (type)                     Output Shape          Param #     Connected to                     \n",
      "====================================================================================================\n",
      "maxpooling2d_236 (MaxPooling2D)  (None, 512, 7, 7)     0           maxpooling2d_input_31[0][0]      \n",
      "____________________________________________________________________________________________________\n",
      "flatten_72 (Flatten)             (None, 25088)         0           maxpooling2d_236[0][0]           \n",
      "____________________________________________________________________________________________________\n",
      "dense_286 (Dense)                (None, 4096)          102764544   flatten_72[0][0]                 \n",
      "____________________________________________________________________________________________________\n",
      "batchnormalization_175 (BatchNor (None, 4096)          16384       dense_286[0][0]                  \n",
      "____________________________________________________________________________________________________\n",
      "dropout_175 (Dropout)            (None, 4096)          0           batchnormalization_175[0][0]     \n",
      "____________________________________________________________________________________________________\n",
      "dense_287 (Dense)                (None, 4096)          16781312    dropout_175[0][0]                \n",
      "____________________________________________________________________________________________________\n",
      "batchnormalization_176 (BatchNor (None, 4096)          16384       dense_287[0][0]                  \n",
      "____________________________________________________________________________________________________\n",
      "dropout_176 (Dropout)            (None, 4096)          0           batchnormalization_176[0][0]     \n",
      "____________________________________________________________________________________________________\n",
      "dense_288 (Dense)                (None, 2)             8194        dropout_176[0][0]                \n",
      "====================================================================================================\n",
      "Total params: 119,586,818\n",
      "Trainable params: 119,570,434\n",
      "Non-trainable params: 16,384\n",
      "____________________________________________________________________________________________________\n",
      "Train on 40 samples, validate on 20 samples\n",
      "Epoch 1/1\n",
      "40/40 [==============================] - 2s - loss: 1.4051 - acc: 0.5750 - val_loss: 0.5123 - val_acc: 0.7500\n",
      "Train on 40 samples, validate on 20 samples\n",
      "Epoch 1/10\n",
      "40/40 [==============================] - 2s - loss: 0.9726 - acc: 0.4750 - val_loss: 0.2561 - val_acc: 0.9000\n",
      "Epoch 2/10\n",
      "40/40 [==============================] - 2s - loss: 0.5062 - acc: 0.8000 - val_loss: 0.1374 - val_acc: 0.9000\n",
      "Epoch 3/10\n",
      "40/40 [==============================] - 2s - loss: 0.4317 - acc: 0.8500 - val_loss: 0.0767 - val_acc: 0.9500\n",
      "Epoch 4/10\n",
      "40/40 [==============================] - 2s - loss: 0.2814 - acc: 0.9250 - val_loss: 0.0460 - val_acc: 1.0000\n",
      "Epoch 5/10\n",
      "40/40 [==============================] - 2s - loss: 0.1571 - acc: 0.9250 - val_loss: 0.0294 - val_acc: 1.0000\n",
      "Epoch 6/10\n",
      "40/40 [==============================] - 2s - loss: 0.1636 - acc: 0.9250 - val_loss: 0.0187 - val_acc: 1.0000\n",
      "Epoch 7/10\n",
      "40/40 [==============================] - 2s - loss: 0.0445 - acc: 1.0000 - val_loss: 0.0132 - val_acc: 1.0000\n",
      "Epoch 8/10\n",
      "40/40 [==============================] - 2s - loss: 0.0791 - acc: 0.9750 - val_loss: 0.0100 - val_acc: 1.0000\n",
      "Epoch 9/10\n",
      "40/40 [==============================] - 2s - loss: 0.0710 - acc: 0.9500 - val_loss: 0.0081 - val_acc: 1.0000\n",
      "Epoch 10/10\n",
      "40/40 [==============================] - 2s - loss: 0.0173 - acc: 1.0000 - val_loss: 0.0068 - val_acc: 1.0000\n"
     ]
    }
   ],
   "source": [
    "for i in range(5):\n",
    "    model = train_denselayers(train_llayers())\n",
    "    model.save_weights(model_path+'vggbn_ensemble_'+str(i)+'.h5')"
   ]
  },
  {
   "cell_type": "code",
   "execution_count": 78,
   "metadata": {},
   "outputs": [],
   "source": [
    "def pred_ensemble(arr):\n",
    "    pred_model=createvggbn()\n",
    "    pred_model.pop()\n",
    "    pred_model.add(Dense(2, activation='softmax'))\n",
    "    ens_prediction = []\n",
    "    for i in range(5):\n",
    "        pred_model.load_weights(model_path+'vggbn_ensemble_'+str(i)+'.h5')\n",
    "        preds = pred_model.predict(arr, batch_size=batch_size)\n",
    "        ens_prediction.append(preds)\n",
    "    avg_result = np.stack(ens_prediction).mean(axis=0)\n",
    "    return avg_result"
   ]
  },
  {
   "cell_type": "code",
   "execution_count": 79,
   "metadata": {
    "collapsed": true
   },
   "outputs": [],
   "source": [
    "result = pred_ensemble(val_data)"
   ]
  },
  {
   "cell_type": "code",
   "execution_count": 83,
   "metadata": {},
   "outputs": [
    {
     "data": {
      "text/plain": [
       "array(1.0, dtype=float32)"
      ]
     },
     "execution_count": 83,
     "metadata": {},
     "output_type": "execute_result"
    }
   ],
   "source": [
    "categorical_accuracy(to_categorical(val_batches.classes), result).eval()"
   ]
  },
  {
   "cell_type": "code",
   "execution_count": null,
   "metadata": {
    "collapsed": true
   },
   "outputs": [],
   "source": []
  }
 ],
 "metadata": {
  "hide_input": false,
  "kernelspec": {
   "display_name": "Python [conda env:fastai]",
   "language": "python",
   "name": "conda-env-fastai-py"
  },
  "language_info": {
   "codemirror_mode": {
    "name": "ipython",
    "version": 2
   },
   "file_extension": ".py",
   "mimetype": "text/x-python",
   "name": "python",
   "nbconvert_exporter": "python",
   "pygments_lexer": "ipython2",
   "version": "2.7.13"
  }
 },
 "nbformat": 4,
 "nbformat_minor": 2
}
