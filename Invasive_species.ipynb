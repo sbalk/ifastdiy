{
 "cells": [
  {
   "cell_type": "code",
   "execution_count": 1,
   "metadata": {
    "collapsed": true
   },
   "outputs": [],
   "source": [
    "# Import modules\n",
    "import csv\n",
    "import shutil\n",
    "import os, sys\n",
    "import glob\n",
    "import numpy as np\n",
    "import math\n",
    "import json\n",
    "\n",
    "# Set directories\n",
    "HOME_DIR = os.getcwd()\n",
    "DATA_PATH = 'data/invasivespecies'\n",
    "DATA_HOME_DIR = os.path.abspath(HOME_DIR+'/'+DATA_PATH)\n",
    "\n",
    "path = DATA_HOME_DIR\n",
    "# Use sample?\n",
    "path = path + '/sample/'\n",
    "\n",
    "train_path = path + '/train/'\n",
    "valid_path = path + '/valid/'\n",
    "test_path = path + '/test/'\n",
    "results_path= path + '/results/'\n",
    "model_path = path + '/models/'"
   ]
  },
  {
   "cell_type": "code",
   "execution_count": 9,
   "metadata": {
    "collapsed": true
   },
   "outputs": [],
   "source": [
    "# Settings\n",
    "batch_size=64"
   ]
  },
  {
   "cell_type": "markdown",
   "metadata": {},
   "source": [
    "# Folder ordering"
   ]
  },
  {
   "cell_type": "markdown",
   "metadata": {
    "heading_collapsed": true
   },
   "source": [
    "## 1. Create train subdirectories and order images in labeled directories"
   ]
  },
  {
   "cell_type": "code",
   "execution_count": 6,
   "metadata": {
    "hidden": true
   },
   "outputs": [
    {
     "name": "stdout",
     "output_type": "stream",
     "text": [
      "/media/Data/Documents/Notebooks/Courses/fastai/data/invasivespecies\n"
     ]
    }
   ],
   "source": [
    "print(path)"
   ]
  },
  {
   "cell_type": "code",
   "execution_count": 8,
   "metadata": {
    "hidden": true
   },
   "outputs": [
    {
     "name": "stdout",
     "output_type": "stream",
     "text": [
      "mkdir: cannot create directory ‘/media/Data/Documents/Notebooks/Courses/fastai/data/invasivespecies/backup’: File exists\n",
      "mv: cannot stat '/media/Data/Documents/Notebooks/Courses/fastai/data/invasivespecies/train': No such file or directory\n"
     ]
    }
   ],
   "source": [
    "# Move train folder to backup and rename to train_unordered\n",
    "%mkdir $DATA_HOME_DIR/backup\n",
    "%mv $DATA_HOME_DIR/train $DATA_HOME_DIR/backup\n",
    "%mv $DATA_HOME_DIR/backup/train $DATA_HOME_DIR/backup/train_unordered"
   ]
  },
  {
   "cell_type": "code",
   "execution_count": 9,
   "metadata": {
    "collapsed": true,
    "hidden": true
   },
   "outputs": [],
   "source": [
    "# Change test folder to test/unknown\n",
    "%mv $DATA_HOME_DIR/test $DATA_HOME_DIR/unknown\n",
    "%mkdir $DATA_HOME_DIR/test\n",
    "%mv $DATA_HOME_DIR/unknown $DATA_HOME_DIR/test"
   ]
  },
  {
   "cell_type": "code",
   "execution_count": 10,
   "metadata": {
    "hidden": true
   },
   "outputs": [
    {
     "name": "stdout",
     "output_type": "stream",
     "text": [
      "rm: cannot remove '/media/Data/Documents/Notebooks/Courses/fastai/data/invasivespecies/results/': No such file or directory\n",
      "rm: cannot remove '/media/Data/Documents/Notebooks/Courses/fastai/data/invasivespecies/valid/': No such file or directory\n",
      "rm: cannot remove '/media/Data/Documents/Notebooks/Courses/fastai/data/invasivespecies/sample/': No such file or directory\n",
      "rm: cannot remove '/media/Data/Documents/Notebooks/Courses/fastai/data/invasivespecies/train/': No such file or directory\n",
      "rm: cannot remove '/media/Data/Documents/Notebooks/Courses/fastai/data/invasivespecies/models/': No such file or directory\n"
     ]
    }
   ],
   "source": [
    "# Remove all folders created by this script (not test/ and backup/)\n",
    "%rm -r $DATA_HOME_DIR/results/\n",
    "%rm -r $DATA_HOME_DIR/valid/\n",
    "%rm -r $DATA_HOME_DIR/sample/\n",
    "%rm -r $DATA_HOME_DIR/train/\n",
    "%rm -r $DATA_HOME_DIR/models/"
   ]
  },
  {
   "cell_type": "code",
   "execution_count": 11,
   "metadata": {
    "collapsed": true,
    "hidden": true
   },
   "outputs": [],
   "source": [
    "# Create directories\n",
    "%mkdir -p $DATA_HOME_DIR/train/invasive/\n",
    "%mkdir -p $DATA_HOME_DIR/train/non_invasive/\n",
    "%mkdir -p $DATA_HOME_DIR/results/\n",
    "%mkdir -p $DATA_HOME_DIR/models/"
   ]
  },
  {
   "cell_type": "code",
   "execution_count": 12,
   "metadata": {
    "collapsed": true,
    "hidden": true
   },
   "outputs": [],
   "source": [
    "def list_pictures_by_label(csvfile):\n",
    "    plantfile = []\n",
    "    both = []\n",
    "    labels = []\n",
    "    with open(DATA_HOME_DIR+'/'+csvfile+'.csv', 'rb') as f:\n",
    "        train_labels = csv.reader(f, delimiter=' ')\n",
    "        temp = next(train_labels)\n",
    "        for row in train_labels:\n",
    "            both.append(row)\n",
    "            plantfile.append(int(row[0][:-2]))\n",
    "            labels.append(int(row[0][-1:]))\n",
    "    invasive = [str(plantfile[i])+'.jpg' for i,x in enumerate(labels) if x==1]\n",
    "    non_invasive = [str(plantfile[i])+'.jpg' for i,x in enumerate(labels) if x==0]\n",
    "    return invasive, non_invasive\n",
    "\n",
    "def copy_files_from_train_to_trainlabel(invasive, non_invasive):\n",
    "    for i in range(len(invasive)):\n",
    "        shutil.move(DATA_HOME_DIR+'/backup/train_unordered/'+invasive[i], DATA_HOME_DIR+'/train/invasive/')\n",
    "    for j in range(len(non_invasive)):\n",
    "        shutil.move(DATA_HOME_DIR+'/backup/train_unordered/'+non_invasive[j], DATA_HOME_DIR+'/train/non_invasive/')"
   ]
  },
  {
   "cell_type": "code",
   "execution_count": 16,
   "metadata": {
    "collapsed": true,
    "hidden": true
   },
   "outputs": [],
   "source": [
    "copy_files_from_train_to_trainlabel(*list_pictures_by_label('train_labels'))"
   ]
  },
  {
   "cell_type": "markdown",
   "metadata": {
    "heading_collapsed": true
   },
   "source": [
    "## 2. Create valid and sample directories"
   ]
  },
  {
   "cell_type": "code",
   "execution_count": 17,
   "metadata": {
    "collapsed": true,
    "hidden": true
   },
   "outputs": [],
   "source": [
    "# Create directories\n",
    "%mkdir -p $DATA_HOME_DIR/valid/invasive\n",
    "%mkdir -p $DATA_HOME_DIR/valid/non_invasive\n",
    "%mkdir -p $DATA_HOME_DIR/results"
   ]
  },
  {
   "cell_type": "code",
   "execution_count": 18,
   "metadata": {
    "collapsed": true,
    "hidden": true
   },
   "outputs": [],
   "source": [
    "def move_from_train_to_valid():\n",
    "    dirs = os.listdir(DATA_HOME_DIR+'/train')\n",
    "    print(dirs)\n",
    "    for iterator in dirs:\n",
    "        if os.listdir(DATA_HOME_DIR+'/valid/'+iterator+'/') == []:\n",
    "            g = glob.glob(DATA_HOME_DIR+'/train/'+iterator+'/'+'*.jpg')\n",
    "            shuf = np.random.permutation(g)\n",
    "            for i in range(int(math.ceil(0.08*len(g)))):\n",
    "#                 print(DATA_HOME_DIR+'/valid/'+iterator+'/'+ os.path.basename(shuf[i]))\n",
    "                shutil.move(shuf[i], DATA_HOME_DIR+'/valid/'+iterator+'/'+ os.path.basename(shuf[i]))\n",
    "        else:\n",
    "            print('/valid/'+ str(iterator)+ 'folder not empty')"
   ]
  },
  {
   "cell_type": "code",
   "execution_count": 19,
   "metadata": {
    "hidden": true
   },
   "outputs": [
    {
     "name": "stdout",
     "output_type": "stream",
     "text": [
      "['invasive', 'non_invasive']\n"
     ]
    }
   ],
   "source": [
    "move_from_train_to_valid()"
   ]
  },
  {
   "cell_type": "code",
   "execution_count": 20,
   "metadata": {
    "hidden": true
   },
   "outputs": [
    {
     "name": "stdout",
     "output_type": "stream",
     "text": [
      "rm: cannot remove '/media/Data/Documents/Notebooks/Courses/fastai/data/invasivespecies/sample/results/': No such file or directory\n",
      "rm: cannot remove '/media/Data/Documents/Notebooks/Courses/fastai/data/invasivespecies/sample/valid/invasive/': No such file or directory\n",
      "rm: cannot remove '/media/Data/Documents/Notebooks/Courses/fastai/data/invasivespecies/sample/valid/non_invasive/': No such file or directory\n",
      "rm: cannot remove '/media/Data/Documents/Notebooks/Courses/fastai/data/invasivespecies/sample/train/invasive/': No such file or directory\n",
      "rm: cannot remove '/media/Data/Documents/Notebooks/Courses/fastai/data/invasivespecies/sample/train/non_invasive/': No such file or directory\n",
      "rm: cannot remove '/media/Data/Documents/Notebooks/Courses/fastai/data/invasivespecies/sample/test/unknown': No such file or directory\n",
      "rm: cannot remove '/media/Data/Documents/Notebooks/Courses/fastai/data/invasivespecies/sample/models/': No such file or directory\n"
     ]
    }
   ],
   "source": [
    "# Remove directories\n",
    "%rm -r $DATA_HOME_DIR/sample/results/\n",
    "%rm -r $DATA_HOME_DIR/sample/valid/invasive/\n",
    "%rm -r $DATA_HOME_DIR/sample/valid/non_invasive/\n",
    "%rm -r $DATA_HOME_DIR/sample/train/invasive/\n",
    "%rm -r $DATA_HOME_DIR/sample/train/non_invasive/\n",
    "%rm -r $DATA_HOME_DIR/sample/test/unknown\n",
    "%rm -r $DATA_HOME_DIR/sample/models/"
   ]
  },
  {
   "cell_type": "code",
   "execution_count": 21,
   "metadata": {
    "collapsed": true,
    "hidden": true
   },
   "outputs": [],
   "source": [
    "# Create directories\n",
    "%mkdir -p $DATA_HOME_DIR/sample/results/\n",
    "%mkdir -p $DATA_HOME_DIR/sample/valid/invasive/\n",
    "%mkdir -p $DATA_HOME_DIR/sample/valid/non_invasive/\n",
    "%mkdir -p $DATA_HOME_DIR/sample/train/invasive/\n",
    "%mkdir -p $DATA_HOME_DIR/sample/train/non_invasive/\n",
    "%mkdir -p $DATA_HOME_DIR/sample/test/unknown\n",
    "%mkdir -p $DATA_HOME_DIR/sample/models/"
   ]
  },
  {
   "cell_type": "code",
   "execution_count": 22,
   "metadata": {
    "collapsed": true,
    "hidden": true
   },
   "outputs": [],
   "source": [
    "def create_samplefolder():\n",
    "    dirs = os.listdir(DATA_HOME_DIR+'/train')\n",
    "    if os.listdir(DATA_HOME_DIR+'/sample/train/'+dirs[0]+'/') == []:\n",
    "        for iterator in dirs:\n",
    "            g = glob.glob(DATA_HOME_DIR+'/train/'+iterator+'/'+'*.jpg')\n",
    "            shuf = np.random.permutation(g)\n",
    "            for i in range(20):\n",
    "                shutil.copyfile(shuf[i], DATA_HOME_DIR+'/sample/train/'+iterator+'/'+ os.path.basename(shuf[i]))\n",
    "            for i in range(10):\n",
    "                shutil.copyfile(shuf[i], DATA_HOME_DIR+'/sample/valid/'+iterator+'/'+ os.path.basename(shuf[i]))\n",
    "    else:\n",
    "        print('/sample/train/ or /sample/valid/ folder not empty')\n",
    "    if os.listdir(DATA_HOME_DIR+'/sample/test/unknown/') == []:\n",
    "        g = glob.glob(DATA_HOME_DIR+'/test/unknown/'+'*.jpg')\n",
    "        shuf = np.random.permutation(g)\n",
    "        for i in range(10):\n",
    "                    shutil.copyfile(shuf[i], DATA_HOME_DIR+'/sample/test/unknown/'+ os.path.basename(shuf[i]))\n",
    "    else:\n",
    "        print('/sample/test/unknown/ folder not empty')"
   ]
  },
  {
   "cell_type": "code",
   "execution_count": 23,
   "metadata": {
    "collapsed": true,
    "hidden": true
   },
   "outputs": [],
   "source": [
    "create_samplefolder()"
   ]
  },
  {
   "cell_type": "markdown",
   "metadata": {},
   "source": [
    "# Create batches"
   ]
  },
  {
   "cell_type": "code",
   "execution_count": 44,
   "metadata": {},
   "outputs": [
    {
     "name": "stdout",
     "output_type": "stream",
     "text": [
      "Found 40 images belonging to 2 classes.\n",
      "Found 20 images belonging to 2 classes.\n"
     ]
    }
   ],
   "source": [
    "from keras.preprocessing import image\n",
    "gen = image.ImageDataGenerator()\n",
    "batches = gen.flow_from_directory(train_path, target_size=(224,224), batch_size=batch_size, class_mode='binary')\n",
    "valbatches = gen.flow_from_directory(valid_path, target_size=(224,224), batch_size=batch_size, class_mode='binary')"
   ]
  },
  {
   "cell_type": "code",
   "execution_count": 75,
   "metadata": {},
   "outputs": [],
   "source": [
    "from keras.models import Sequential\n",
    "from keras.layers.core import Dense, Flatten\n",
    "from keras.layers.normalization import BatchNormalization\n",
    "from keras.optimizers import Adam\n",
    "model = Sequential([\n",
    "    BatchNormalization(input_shape=(3,224,224)),\n",
    "    Flatten(),\n",
    "    Dense(100, activation='softmax'),\n",
    "    Dense(2, activation='softmax')\n",
    "])"
   ]
  },
  {
   "cell_type": "code",
   "execution_count": 76,
   "metadata": {},
   "outputs": [],
   "source": [
    "model.compile(optimizer=Adam(), loss='sparse_categorical_crossentropy', metrics=['accuracy'])"
   ]
  },
  {
   "cell_type": "code",
   "execution_count": 77,
   "metadata": {},
   "outputs": [
    {
     "name": "stdout",
     "output_type": "stream",
     "text": [
      "____________________________________________________________________________________________________\n",
      "Layer (type)                     Output Shape          Param #     Connected to                     \n",
      "====================================================================================================\n",
      "batchnormalization_14 (BatchNorm (None, 3, 224, 224)   896         batchnormalization_input_11[0][0]\n",
      "____________________________________________________________________________________________________\n",
      "flatten_14 (Flatten)             (None, 150528)        0           batchnormalization_14[0][0]      \n",
      "____________________________________________________________________________________________________\n",
      "dense_23 (Dense)                 (None, 100)           15052900    flatten_14[0][0]                 \n",
      "____________________________________________________________________________________________________\n",
      "dense_24 (Dense)                 (None, 2)             202         dense_23[0][0]                   \n",
      "====================================================================================================\n",
      "Total params: 15,053,998\n",
      "Trainable params: 15,053,550\n",
      "Non-trainable params: 448\n",
      "____________________________________________________________________________________________________\n"
     ]
    }
   ],
   "source": [
    "model.summary()"
   ]
  },
  {
   "cell_type": "code",
   "execution_count": 78,
   "metadata": {},
   "outputs": [
    {
     "name": "stdout",
     "output_type": "stream",
     "text": [
      "Epoch 1/5\n",
      "40/40 [==============================] - 3s - loss: 0.6948 - acc: 0.4500 - val_loss: 0.7057 - val_acc: 0.5000\n",
      "Epoch 2/5\n",
      "40/40 [==============================] - 4s - loss: 0.6218 - acc: 0.9250 - val_loss: 0.6956 - val_acc: 0.5000\n",
      "Epoch 3/5\n",
      "40/40 [==============================] - 3s - loss: 0.6103 - acc: 0.9500 - val_loss: 0.6955 - val_acc: 0.5000\n",
      "Epoch 4/5\n",
      "40/40 [==============================] - 3s - loss: 0.6094 - acc: 0.9500 - val_loss: 0.6954 - val_acc: 0.5000\n",
      "Epoch 5/5\n",
      "40/40 [==============================] - 2s - loss: 0.6085 - acc: 0.9500 - val_loss: 0.6952 - val_acc: 0.5000\n"
     ]
    },
    {
     "data": {
      "text/plain": [
       "<keras.callbacks.History at 0x7f0000f0d810>"
      ]
     },
     "execution_count": 78,
     "metadata": {},
     "output_type": "execute_result"
    }
   ],
   "source": [
    "model.fit_generator(batches, batches.nb_sample, nb_epoch=5, validation_data=valbatches, nb_val_samples=valbatches.nb_sample)"
   ]
  },
  {
   "cell_type": "code",
   "execution_count": 81,
   "metadata": {},
   "outputs": [
    {
     "ename": "AttributeError",
     "evalue": "type object 'History' has no attribute 'keys'",
     "output_type": "error",
     "traceback": [
      "\u001b[0;31m---------------------------------------------------------------------------\u001b[0m",
      "\u001b[0;31mAttributeError\u001b[0m                            Traceback (most recent call last)",
      "\u001b[0;32m<ipython-input-81-fb2ccf17e077>\u001b[0m in \u001b[0;36m<module>\u001b[0;34m()\u001b[0m\n\u001b[0;32m----> 1\u001b[0;31m \u001b[0;32mprint\u001b[0m\u001b[0;34m(\u001b[0m\u001b[0mkeras\u001b[0m\u001b[0;34m.\u001b[0m\u001b[0mcallbacks\u001b[0m\u001b[0;34m.\u001b[0m\u001b[0mHistory\u001b[0m\u001b[0;34m.\u001b[0m\u001b[0mkeys\u001b[0m\u001b[0;34m(\u001b[0m\u001b[0;34m)\u001b[0m\u001b[0;34m)\u001b[0m\u001b[0;34m\u001b[0m\u001b[0m\n\u001b[0m",
      "\u001b[0;31mAttributeError\u001b[0m: type object 'History' has no attribute 'keys'"
     ]
    }
   ],
   "source": [
    "print(keras.callbacks.History.keys())"
   ]
  },
  {
   "cell_type": "code",
   "execution_count": null,
   "metadata": {
    "collapsed": true
   },
   "outputs": [],
   "source": []
  }
 ],
 "metadata": {
  "kernelspec": {
   "display_name": "Python [conda env:fastai]",
   "language": "python",
   "name": "conda-env-fastai-py"
  },
  "language_info": {
   "codemirror_mode": {
    "name": "ipython",
    "version": 2
   },
   "file_extension": ".py",
   "mimetype": "text/x-python",
   "name": "python",
   "nbconvert_exporter": "python",
   "pygments_lexer": "ipython2",
   "version": "2.7.13"
  }
 },
 "nbformat": 4,
 "nbformat_minor": 2
}
