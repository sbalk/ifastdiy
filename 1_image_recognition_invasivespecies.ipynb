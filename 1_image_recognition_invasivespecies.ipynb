{
 "cells": [
  {
   "cell_type": "markdown",
   "metadata": {},
   "source": [
    "## Memo\n",
    "* Install kaggle-cli, set competition `kg -c 'compname'` and download dataset `kg download`\n",
    "* move all `cat*` to `cats/`, same for dogs\n",
    "* take 1000 random pictures and move them to valid/cats/ with `shuf -n 1000 -e train/cat* | xargs -i mv {} valid/cats/`, same for dogs\n",
    "Furthermore use\n",
    "* `ls /train/cats/ | wc -l` to count files in `/train/cats/`\n",
    "* `ls /train/cats/ | grep -v 'cat'` to find all files that DON'T have cat in it. `-v`-flag inverts search.\n",
    "* use: `mv /train/cat* /valid/cats` and `cp` to do the rest\n",
    "* copy utils etc: `cp -t ~/fastai/ vgg16.py vgg16bn.py utils.py resnet50.py`"
   ]
  },
  {
   "cell_type": "code",
   "execution_count": 13,
   "metadata": {
    "collapsed": true
   },
   "outputs": [],
   "source": [
    "import csv\n",
    "import shutil\n",
    "path = \"data/invasiveplants/\"\n",
    "# path = \"data/invasiveplants/trial/\""
   ]
  },
  {
   "cell_type": "code",
   "execution_count": 11,
   "metadata": {
    "collapsed": false
   },
   "outputs": [],
   "source": [
    "def get_invasiveness(csvfile):\n",
    "    plantfile = []\n",
    "    both = []\n",
    "    labels = []\n",
    "    with open(path+'train_labels.csv', 'rb') as f:\n",
    "        train_labels = csv.reader(f, delimiter=' ')\n",
    "        temp = next(train_labels)\n",
    "        for row in train_labels:\n",
    "            both.append(row)\n",
    "            plantfile.append(int(row[0][:-2]))\n",
    "            labels.append(int(row[0][-1:]))\n",
    "    invasive = [str(plantfile[i])+'.jpg' for i,x in enumerate(labels) if x==1]\n",
    "    non_invasive = [str(plantfile[i])+'.jpg' for i,x in enumerate(labels) if x==0]\n",
    "    return invasive, non_invasive"
   ]
  },
  {
   "cell_type": "code",
   "execution_count": 43,
   "metadata": {
    "collapsed": false
   },
   "outputs": [],
   "source": [
    "def copy_files():\n",
    "    for i in range(len(invasive)):\n",
    "        shutil.copy2(path+\"train_unordered/\"+invasive[i], path+\"train/invasive/\")\n",
    "    for j in range(len(non_invasive)):\n",
    "        shutil.copy2(path+\"train_unordered/\"+non_invasive[j], path+\"train/non_invasive/\")"
   ]
  },
  {
   "cell_type": "code",
   "execution_count": null,
   "metadata": {
    "collapsed": false
   },
   "outputs": [
    {
     "name": "stdout",
     "output_type": "stream",
     "text": [
      "Found 2111 images belonging to 2 classes.\n",
      "Found 184 images belonging to 2 classes.\n",
      "Found 1531 images belonging to 1 classes.\n",
      "Epoch 1/2\n",
      "  64/2111 [..............................] - ETA: 832s - loss: 1.0706 - acc: 0.6562"
     ]
    }
   ],
   "source": [
    "from __future__ import division,print_function\n",
    "\n",
    "import os, json\n",
    "from glob import glob\n",
    "import numpy as np\n",
    "np.set_printoptions(precision=4, linewidth=100)\n",
    "from matplotlib import pyplot as plt\n",
    "import csv\n",
    "import math\n",
    "\n",
    "import utils; reload(utils)\n",
    "from utils import plots\n",
    "import vgg16; reload(vgg16)\n",
    "from vgg16 import Vgg16\n",
    "\n",
    "batch_size = 8\n",
    "\n",
    "vgg = Vgg16()\n",
    "# Grab a few images at a time for training and validation.\n",
    "# NB: They must be in subdirectories named based on their category\n",
    "batches = vgg.get_batches(path+'train', batch_size=batch_size)\n",
    "val_batches = vgg.get_batches(path+'valid', batch_size=batch_size*2)\n",
    "test_batches = vgg.get_batches(path+'temptest', batch_size=batch_size, shuffle=False)\n",
    "vgg.finetune(batches)\n",
    "vgg.fit(batches, val_batches, nb_epoch=2)"
   ]
  },
  {
   "cell_type": "code",
   "execution_count": 3,
   "metadata": {
    "collapsed": true
   },
   "outputs": [],
   "source": [
    "def batch_dogness(test_batches):\n",
    "    imgs,nolabel = next(test_batches)\n",
    "    preds, idxs, labels = vgg.predict(imgs)\n",
    "    dogness = np.multiply(preds, idxs) + np.multiply(1.-preds, 1-idxs)\n",
    "    return dogness"
   ]
  },
  {
   "cell_type": "code",
   "execution_count": 10,
   "metadata": {
    "collapsed": false
   },
   "outputs": [],
   "source": [
    "def predict_order_testset(testfolder):\n",
    "#     files_names = os.listdir(path+testfolder)\n",
    "    files_names = test_batches.filenames\n",
    "    files_names = [int(files_names[i][5:-4]) for i in range(len(files_names))]\n",
    "    N = int(math.ceil(len(files_names)/batch_size))\n",
    "#     predictions = [x for i in range(N) for x in batch_dogness(test_batches).tolist()]\n",
    "    predictions = [x for i in range(N) for x in batch_dogness(test_batches).clip(0.01,0.99).tolist()] #Use clipping because of log loss judgement by Kaggle\n",
    "    predictions_ordered = [x for (y,x) in sorted(zip(files_names,predictions))]\n",
    "    return predictions_ordered"
   ]
  },
  {
   "cell_type": "code",
   "execution_count": 11,
   "metadata": {
    "collapsed": true
   },
   "outputs": [],
   "source": [
    "def write_csv(predictions_ordered):\n",
    "    with open('test.csv', 'wb') as f:\n",
    "        fieldnames = ['id', 'label']\n",
    "        wr = csv.writer(f, delimiter=',')\n",
    "        wr.writerow(fieldnames)\n",
    "        for i in range(len(predictions_ordered)):\n",
    "            wr.writerow([i+1,predictions_ordered[i]])"
   ]
  },
  {
   "cell_type": "code",
   "execution_count": 12,
   "metadata": {
    "collapsed": false
   },
   "outputs": [],
   "source": [
    "predictions = predict_order_testset('temptest/test')\n",
    "write_csv(predictions)"
   ]
  },
  {
   "cell_type": "code",
   "execution_count": null,
   "metadata": {
    "collapsed": true
   },
   "outputs": [],
   "source": []
  }
 ],
 "metadata": {
  "anaconda-cloud": {},
  "kernelspec": {
   "display_name": "Python [conda root]",
   "language": "python",
   "name": "conda-root-py"
  },
  "language_info": {
   "codemirror_mode": {
    "name": "ipython",
    "version": 2
   },
   "file_extension": ".py",
   "mimetype": "text/x-python",
   "name": "python",
   "nbconvert_exporter": "python",
   "pygments_lexer": "ipython2",
   "version": "2.7.12"
  }
 },
 "nbformat": 4,
 "nbformat_minor": 1
}
